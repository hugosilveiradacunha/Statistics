{
 "cells": [
  {
   "cell_type": "markdown",
   "metadata": {},
   "source": [
    "# STATISTICS - ANOVA & NONPARAMETRIC COUNTERPART"
   ]
  },
  {
   "cell_type": "markdown",
   "metadata": {},
   "source": [
    "# 1. INTRODUCTION \n",
    "\n",
    "This is a practical approach to a set of statistical techniques commonly used in One-way ANOVA process and nonparametric counterparts.\n",
    "\n",
    "The **main objective** was: to apply, interpret and compare the results of a limited set of parametric and non-parametric tests appropriate to solve a specific marketing problem.\n",
    "\n",
    "> **Marketing Problem:**\n",
    "> \n",
    "> A specific company is interested in studying the overall purchases of its customers and understand if customers from different age groups have a distinct global behavior in relation to the amount spent during a certain period of time.\n",
    "The total sales were recorded over a period of two years, for each customer, belonging to different age groups, forming six groups independent of each other.\n",
    "To conduct this study, an independent random sample of customers was obtained from each of the six age groups.\n",
    "\n",
    "\n",
    "\n",
    "\n",
    "\n"
   ]
  },
  {
   "cell_type": "markdown",
   "metadata": {},
   "source": [
    "# 2.\tMETHODOLOGY \n",
    "\n",
    "\n",
    "I have included output from two statistical software packages, R and SAS, and try to complement both data analysis and analysis of experiments with some code, mix some text with the code, and publish this work as a notebook.\n",
    "\n",
    "Firstly, I will do an exploratory data analysis, describing the main statistics and plotting useful information to better understand the data under analysis.\n",
    "\n",
    "The objective is to test the equality of the six populations’ means, i.e., test if for the different age groups the mean of purchases for the given period is the same in all its levels.\n",
    "\n",
    "<center>$H_0 :   \\mu_1 = \\mu_2 = \\mu_3 = \\mu_4 = \\mu_5 = \\mu_6$</center>\n",
    "\n",
    "<center>$ H_1 : \\exists_{i,j(i \\neq j)} :  \\mu_i \\neq \\mu_j $</center>\n",
    "\n",
    "where $i,j = 1, 2, ..., 6 $, are the number of levels.\n",
    "\n",
    "If $H_0$ is true, the mean values are all equal, thus it was obtained a set of 6 samples withdrawn from the same population."
   ]
  },
  {
   "cell_type": "markdown",
   "metadata": {},
   "source": [
    "## 2.1. ONE-WAY ANOVA WITH FIXED EFFECTS\n",
    "\n",
    "To test $H_0$, the analysis of the variances of different populations (age groups), popularly known as ANOVA, should be applied. \n",
    "\n",
    "\n",
    "> **Experimental units**: customers.\n",
    "\n",
    "> **Factors**: age group, with 6 levels: \"18-25\", \"26-35\", \"36-45\", \"46-55\", \"56-65\" and \"66-90\".\n",
    "\n",
    "> **Groups**: 6 age groups (treatments)"
   ]
  },
  {
   "cell_type": "markdown",
   "metadata": {},
   "source": [
    "** STATISTICAL MODEL **  \n",
    "\n",
    "\n",
    "Considering that the mean in each age group can be written as: \n",
    "\n",
    "<center>$\\mu_i = \\mu + \\alpha_i$ </center>\n",
    "\n",
    "<center>($i^{th}$ population mean) = (overall mean) + ($i^{th}$ population effect)</center>\n",
    "\n",
    "where $\\alpha_i = \\mu_i - \\mu$ is the age effect in each group.\n",
    "\n",
    "\n",
    "\n",
    "Then, the response $X_{i,j}$, distributed as $N(\\mu + \\alpha_i,\\sigma^2)$, can be expressed in the terms of following **model**;\n",
    "\n",
    "><center>$X_{ij} = \\mu_i + \\epsilon_{ij} = \\mu + \\alpha_i + \\epsilon_{ij} $  </center> \n",
    ">\n",
    "><center>(sales) = (overall sales mean) + (age effect) + (random error)</center>\n",
    "\n",
    "\n",
    "where $\\mu_i= \\mu + \\alpha_i$ is the mean value of the $i^{th}$ age-group in the population, $\\mu$ is the mean value of the population, $\\alpha_i$ is the effect of the $i^{th}$ age-group and $\\epsilon_{ij} \\sim N(0,\\sigma^2)$ is a random residual.\n",
    "\n",
    "In this formulation, testing the null hypothesis $ H_0 : \\mu_1 =\\mu_2=...=\\mu_6$ , is equivalent to test: $ H_0 : \\alpha_1 =\\alpha_2=...=\\alpha_6$.\n",
    "\n",
    "Assuming that $H_0$ is true, then this leads us to a restatement of the hypothesis of equality of means, satisfying the following constraint: \n",
    "\n",
    "> <center>$\\sum_{i=1}^k \\alpha_i = \\sum_{i=1}^k {(\\mu_i - \\mu)} = 0$</center>\n",
    "\n",
    "We need this constraint in the model in order to be identifiable: $k + 1$ parameters for only $k$ means, since there are an infinity of $(\\mu ;\\alpha_1 ;... ;\\alpha_6 )$ that gives us the same means for each $X_{ij}$\n",
    "\n",
    "\n",
    "Following this decomposition, the analysis of variance is based on the decompositions of the observations,\n",
    "\n",
    "\n",
    "<center>$$x_{i,j} = \\bar x + (\\bar x_i - \\bar x) + (x_{i,j} - \\bar x_l)$$,</center>\n",
    "<center>(sales) = (overall sample mean) + (estimated age effect) + (residual),</center>\n",
    "\n",
    "where $\\bar x$ is an estimate of $\\mu$, $\\hat \\alpha_i = (\\bar x_i - \\bar x)$ is an estimate of $\\alpha_i$, and $(x_{i,j} - \\bar x_l)$ is an estimate of the error $\\epsilon_{ij} $.\n",
    "\n",
    "\n",
    "\n",
    "To fit our model, we will use the sample mean: \n",
    "\n",
    " <center>$\\bar X_{i\\bullet } = {\\frac{1}{n_i}}\\sum_{j=1}^{n_j} X_{ij} = \\frac{X_{i\\bullet }}{n_i}$ </center>\n",
    "\n",
    "corresponding to the $i^{th}$ age-group.\n",
    "\n",
    "\n",
    "However, to perform this analysis, we must validate the respective assumptions:\n",
    "\n",
    "- Independence condition of the observations;\n",
    "\n",
    "- Normal populations;\n",
    "\n",
    "- Homoscedasticity."
   ]
  },
  {
   "cell_type": "markdown",
   "metadata": {},
   "source": [
    "### 2.1.1.\tIndependence condition of the observations\n",
    "\n",
    "To conduct this study, an independent random sample of customers was obtained from each of the six age groups and each customer can only belong to one of each age group."
   ]
  },
  {
   "cell_type": "markdown",
   "metadata": {},
   "source": [
    "### 2.1.2.\tNormal populations\n",
    "\n",
    "<center>$X_i \\sim N(\\mu_i,\\sigma_i)$, unknown parameters, $i = 1 … 6$</center>\n",
    "\n",
    "We will test the normality condition using the following test statistics:\n",
    "\n",
    "-\tLilliefors’ test\n",
    "\n",
    "-\tShapiro-Wilk test\n",
    "\n",
    "to test:\n",
    "<center>$H_0$ : all the six samples come from a population with a normal distribution</center>\n",
    "\n",
    "<center>$H_1$ : exists one sample, at least, that doesn't come from a population with a normal distribution</center>\n",
    "\n",
    "\n",
    "Considering that we have a satisfactory transformation that gives us a good fit to normality for $\\lambda = 0$: $Y = ln(Sales_i)$, we will carry on both variables assuming, however, that they will follow different paths along the one-way ANOVA process and nonparametric counterparts. This approach will give us the possibility to go through multiple steps of the proposed methodology, the opportunity to apply multiple tests and, on the other hand, will also give us alternative results to be compared."
   ]
  },
  {
   "cell_type": "markdown",
   "metadata": {},
   "source": [
    "### 2.1.3. Populations with the same variance\n",
    "\n",
    "If the normality condition is verified, the hypothesis of homoscedasticity will be tested:\n",
    "\n",
    "<center>$H_0 : \\sigma_1^2 = \\sigma_2^2 = \\sigma_3^2 = \\sigma_4^2 = \\sigma_5^2 = \\sigma_6^2 = \\sigma^2 $</center>\n",
    "\n",
    "<center>$H_1 : \\exists_{i,j(i \\neq j)} :  \\sigma_i^2 \\neq \\sigma_j^2 $</center>\n",
    "\n",
    "We will test the homoscedasticity condition using the following test statistics:\n",
    "\n",
    "-\tBartlett’s test.\n",
    "\n",
    "-\tLevene’s test"
   ]
  },
  {
   "cell_type": "markdown",
   "metadata": {},
   "source": [
    "### 2.1.4. ANOVA\n",
    "\n",
    "To test $H_0$, the analysis of the variances of different age groups, the model errors are assumed to be normally and independently distributed random variables with mean zero and variance $\\sigma ^2$. The variance $\\sigma^2$ is assumed to be constant for all Age Groups. In this experiment, we will use the transformed variable $Y = ln(X)$."
   ]
  },
  {
   "cell_type": "markdown",
   "metadata": {},
   "source": [
    "### 2.1.5. MULTIPLE COMPARISON TESTS \n",
    "\n",
    "If we assume normality and homoscedasticity but we reject the null hypothesis, $H_0 :   \\mu_1 = ...= \\mu_6$, it only allows to conclude the non-equality between the mean values of the 6 groups. In this case, we will perform multiple comparisons tests to validate if there is evidence of differences between the mean behavior of the age groups regarding the amount spent, using the following test statistics:\n",
    "\n",
    "- Tukey's HSD test;\n",
    "\n",
    "- Hochberg (GF2);\n",
    "\n",
    "- Scheffé’stest;\n",
    "\n",
    "to test:\n",
    "\n",
    "<center>$H_0 :   \\mu_i = \\mu_j$</center>\n",
    "\n",
    "<center>$H_1 :   \\mu_i \\neq \\mu_j, i\\neq j$</center>"
   ]
  },
  {
   "cell_type": "markdown",
   "metadata": {},
   "source": [
    "## 2.3. NONPARAMETRIC COUNTERPART OF ANALYSIS OF VARIANCE \n",
    "\n",
    "For the original data, $X_i = Sales_i$, where the normality assumption is violated, we will use an alternative method to the analysis of variance that does not depend on normality assumptions, the nonparametric tests are applicable regardless of the distribution’s form (distribution-free). However, in general, the parametric tests are more powerful than the nonparametric ones, that´s the reason we must validate the ANOVA assumptions before applying these tests."
   ]
  },
  {
   "cell_type": "markdown",
   "metadata": {},
   "source": [
    "### 2.3.1. Non Normal Populations\n",
    "\n",
    "As we can't assume normality using original data, we will use the following test statistic:\n",
    "\n",
    "- Kruskal-Wallis test\n",
    "\n",
    "to test:\n",
    "\n",
    "<center>$H_0 : $ The 6 samples come from the same population, or from identical populations</center>\n",
    "\n",
    "<center>$H_1 : $ Not all of the 6 samples come from the same population, or from identical populations in terms of location </center>"
   ]
  },
  {
   "cell_type": "markdown",
   "metadata": {},
   "source": [
    "### 2.3.2. Nonparametric Multiple Comparison Tests\n",
    "\n",
    "If either normality or homocedasticity condition can't be assumed and we have rejected any of the hypothesis:\n",
    "\n",
    "- $H_0$ : The 6 samples come from the same population, or from identical populations\n",
    "\n",
    "- $H_0$ : The 6 normal populations have the same mean\n",
    "\n",
    "\n",
    "then we will use Nonparametric Multiple Comparison Tests:\n",
    "\n",
    "- Hodges-Lehmann test for independent samples;\n",
    "\n",
    "- Dwass-Steel-Critchlow-Flignertest;\n",
    "\n",
    "- Nemenyitest (or Nemenyi-Damico-Wolfe-Dunn test);\n",
    "\n",
    "- Conover-Inman test;\n",
    "\n",
    "- Wilcoxon-Mann-Whitney test (i.e., Mann-Whitney U test) with the Bonferroni correction.\n",
    "\n",
    "\n",
    "to test if two populations have the same median:\n",
    "\n",
    "<center>$H_0 : \\tilde \\mu_i = \\tilde \\mu_j $, $(i \\neq j)$</center>"
   ]
  },
  {
   "cell_type": "markdown",
   "metadata": {},
   "source": [
    "# 3. RESULTS"
   ]
  },
  {
   "cell_type": "code",
   "execution_count": 24,
   "metadata": {
    "collapsed": false
   },
   "outputs": [],
   "source": [
    "# packages\n",
    "library(gplots)\n",
    "library(ggplot2)\n",
    "library(dplyr)\n",
    "library(MASS)\n",
    "library(psych)\n",
    "library(gridExtra)\n",
    "library(nortest)\n",
    "library(car)\n",
    "library(graphics)\n",
    "library(agricolae)\n",
    "library(PMCMR)\n",
    "library(conover.test)\n",
    "library(NSM3)\n",
    "options(jupyter.plot_mimetypes = c(\"text/plain\", \"image/png\" ))"
   ]
  },
  {
   "cell_type": "markdown",
   "metadata": {},
   "source": [
    "## 3.1. EXPLORATORY ANALYSIS"
   ]
  },
  {
   "cell_type": "markdown",
   "metadata": {},
   "source": [
    "In our exploratory analysis we will compute some descriptive statistics, for the overall sample and for each group, and draw some graphs deemed adequate for the purpose of our study. "
   ]
  },
  {
   "cell_type": "code",
   "execution_count": 2,
   "metadata": {
    "collapsed": false
   },
   "outputs": [
    {
     "name": "stdout",
     "output_type": "stream",
     "text": [
      "'data.frame':\t300 obs. of  2 variables:\n",
      " $ Age  : Ord.factor w/ 6 levels \"18-25\"<\"26-35\"<..: 1 1 1 1 1 1 1 1 1 1 ...\n",
      " $ Sales: num  1500 35 432 497 885 ...\n"
     ]
    }
   ],
   "source": [
    "# import dataset\n",
    "dataset = read.csv(file = \"BD4R.csv\", header=TRUE); dataset = dataset[,c(1,2)]\n",
    "# define var Age as factor var \n",
    "escEta = c(\"18-25\", \"26-35\", \"36-45\", \"46-55\", \"56-65\", \"66-90\"); \n",
    "dataset$Age = factor(dataset$Age, labels = escEta, ordered=TRUE)\n",
    "\n",
    "# setting sample size\n",
    "obsGroups = c(50,50,50,50,50,50)\n",
    "\n",
    "# subset by age group and number of observations\n",
    "group.1 = subset(dataset,Age == escEta[1])[1:obsGroups[1],];group.2 = subset(dataset,Age == escEta[2])[1:obsGroups[2],]\n",
    "group.3 = subset(dataset,Age == escEta[3])[1:obsGroups[3],];group.4 = subset(dataset,Age == escEta[4])[1:obsGroups[4],]\n",
    "group.5 = subset(dataset,Age == escEta[5])[1:obsGroups[5],];group.6 = subset(dataset,Age == escEta[6])[1:obsGroups[6],]\n",
    "groups = c(group.1,group.2,group.3,group.4,group.5,group.6)\n",
    "\n",
    "# IMS 'data.frame': 300 obs. of  2 variables\n",
    "IMS = rbind(group.1,group.2,group.3,group.4,group.5,group.6); str(IMS)"
   ]
  },
  {
   "cell_type": "markdown",
   "metadata": {},
   "source": [
    "Our data frame $IMS$ contains 300 observations of two variables:\n",
    "\n",
    "- $Age$ (customers age group, as a factor);\n",
    "- $Sales$ (amount spent in purchases).\n",
    "\n",
    "We have selected random samples from six different groups ($group_i$) corresponding to the following Age Groups (levels):\n",
    "\n",
    "- $18-25$;\n",
    "- $26-35$;\n",
    "- $36-45$;\n",
    "- $46-55$;\n",
    "- $56-65$;\n",
    "- $66-90$.\n",
    "\n",
    "Inside each group we have computed some descriptive measures to better understand the distribution of $Sales_i$."
   ]
  },
  {
   "cell_type": "code",
   "execution_count": 3,
   "metadata": {
    "collapsed": false
   },
   "outputs": [
    {
     "data": {
      "text/plain": [
       "    Age         Sales        \n",
       " 18-25:50   Min.   :  11.99  \n",
       " 26-35:50   1st Qu.: 138.41  \n",
       " 36-45:50   Median : 457.17  \n",
       " 46-55:50   Mean   : 799.34  \n",
       " 56-65:50   3rd Qu.: 989.37  \n",
       " 66-90:50   Max.   :9621.70  "
      ]
     },
     "metadata": {},
     "output_type": "display_data"
    },
    {
     "data": {
      "text/html": [
       "<table>\n",
       "<thead><tr><th></th><th scope=col>item</th><th scope=col>group1</th><th scope=col>vars</th><th scope=col>n</th><th scope=col>mean</th><th scope=col>sd</th><th scope=col>median</th><th scope=col>trimmed</th><th scope=col>mad</th><th scope=col>min</th><th scope=col>max</th><th scope=col>range</th><th scope=col>skew</th><th scope=col>kurtosis</th><th scope=col>se</th></tr></thead>\n",
       "<tbody>\n",
       "\t<tr><th scope=row>X11</th><td>1       </td><td>18-25   </td><td>1       </td><td>50      </td><td> 499.761</td><td> 539.446</td><td>390.465 </td><td>406.759 </td><td>423.312 </td><td>11.99   </td><td>2869.81 </td><td>2857.82 </td><td>2.033   </td><td> 5.564  </td><td> 76.289 </td></tr>\n",
       "\t<tr><th scope=row>X12</th><td>2       </td><td>26-35   </td><td>1       </td><td>50      </td><td> 563.333</td><td> 681.432</td><td>422.035 </td><td>415.337 </td><td>433.134 </td><td>24.99   </td><td>3823.46 </td><td>3798.47 </td><td>2.704   </td><td> 8.893  </td><td> 96.369 </td></tr>\n",
       "\t<tr><th scope=row>X13</th><td>3       </td><td>36-45   </td><td>1       </td><td>50      </td><td>1037.479</td><td>1593.022</td><td>469.905 </td><td>697.744 </td><td>609.964 </td><td>13.99   </td><td>9159.00 </td><td>9145.01 </td><td>3.253   </td><td>12.449  </td><td>225.287 </td></tr>\n",
       "\t<tr><th scope=row>X14</th><td>4       </td><td>46-55   </td><td>1       </td><td>50      </td><td>1191.420</td><td>1600.749</td><td>752.955 </td><td>886.494 </td><td>911.502 </td><td>24.47   </td><td>9621.70 </td><td>9597.23 </td><td>3.192   </td><td>13.142  </td><td>226.380 </td></tr>\n",
       "\t<tr><th scope=row>X15</th><td>5       </td><td>56-65   </td><td>1       </td><td>50      </td><td> 928.595</td><td> 971.622</td><td>586.445 </td><td>743.451 </td><td>669.446 </td><td>20.79   </td><td>4029.12 </td><td>4008.33 </td><td>1.596   </td><td> 1.978  </td><td>137.408 </td></tr>\n",
       "\t<tr><th scope=row>X16</th><td>6       </td><td>66-90   </td><td>1       </td><td>50      </td><td> 575.432</td><td> 610.287</td><td>345.345 </td><td>465.615 </td><td>435.647 </td><td>19.90   </td><td>3023.65 </td><td>3003.75 </td><td>1.758   </td><td> 3.558  </td><td> 86.308 </td></tr>\n",
       "</tbody>\n",
       "</table>\n"
      ],
      "text/latex": [
       "\\begin{tabular}{r|lllllllllllllll}\n",
       "  & item & group1 & vars & n & mean & sd & median & trimmed & mad & min & max & range & skew & kurtosis & se\\\\\n",
       "\\hline\n",
       "\tX11 & 1        & 18-25    & 1        & 50       &  499.761 &  539.446 & 390.465  & 406.759  & 423.312  & 11.99    & 2869.81  & 2857.82  & 2.033    &  5.564   &  76.289 \\\\\n",
       "\tX12 & 2        & 26-35    & 1        & 50       &  563.333 &  681.432 & 422.035  & 415.337  & 433.134  & 24.99    & 3823.46  & 3798.47  & 2.704    &  8.893   &  96.369 \\\\\n",
       "\tX13 & 3        & 36-45    & 1        & 50       & 1037.479 & 1593.022 & 469.905  & 697.744  & 609.964  & 13.99    & 9159.00  & 9145.01  & 3.253    & 12.449   & 225.287 \\\\\n",
       "\tX14 & 4        & 46-55    & 1        & 50       & 1191.420 & 1600.749 & 752.955  & 886.494  & 911.502  & 24.47    & 9621.70  & 9597.23  & 3.192    & 13.142   & 226.380 \\\\\n",
       "\tX15 & 5        & 56-65    & 1        & 50       &  928.595 &  971.622 & 586.445  & 743.451  & 669.446  & 20.79    & 4029.12  & 4008.33  & 1.596    &  1.978   & 137.408 \\\\\n",
       "\tX16 & 6        & 66-90    & 1        & 50       &  575.432 &  610.287 & 345.345  & 465.615  & 435.647  & 19.90    & 3023.65  & 3003.75  & 1.758    &  3.558   &  86.308 \\\\\n",
       "\\end{tabular}\n"
      ],
      "text/markdown": [
       "\n",
       "| <!--/--> | item | group1 | vars | n | mean | sd | median | trimmed | mad | min | max | range | skew | kurtosis | se | \n",
       "|---|---|---|---|---|---|\n",
       "| X11 | 1        | 18-25    | 1        | 50       |  499.761 |  539.446 | 390.465  | 406.759  | 423.312  | 11.99    | 2869.81  | 2857.82  | 2.033    |  5.564   |  76.289  | \n",
       "| X12 | 2        | 26-35    | 1        | 50       |  563.333 |  681.432 | 422.035  | 415.337  | 433.134  | 24.99    | 3823.46  | 3798.47  | 2.704    |  8.893   |  96.369  | \n",
       "| X13 | 3        | 36-45    | 1        | 50       | 1037.479 | 1593.022 | 469.905  | 697.744  | 609.964  | 13.99    | 9159.00  | 9145.01  | 3.253    | 12.449   | 225.287  | \n",
       "| X14 | 4        | 46-55    | 1        | 50       | 1191.420 | 1600.749 | 752.955  | 886.494  | 911.502  | 24.47    | 9621.70  | 9597.23  | 3.192    | 13.142   | 226.380  | \n",
       "| X15 | 5        | 56-65    | 1        | 50       |  928.595 |  971.622 | 586.445  | 743.451  | 669.446  | 20.79    | 4029.12  | 4008.33  | 1.596    |  1.978   | 137.408  | \n",
       "| X16 | 6        | 66-90    | 1        | 50       |  575.432 |  610.287 | 345.345  | 465.615  | 435.647  | 19.90    | 3023.65  | 3003.75  | 1.758    |  3.558   |  86.308  | \n",
       "\n",
       "\n"
      ],
      "text/plain": [
       "    item group1 vars n  mean     sd       median  trimmed mad     min   max    \n",
       "X11 1    18-25  1    50  499.761  539.446 390.465 406.759 423.312 11.99 2869.81\n",
       "X12 2    26-35  1    50  563.333  681.432 422.035 415.337 433.134 24.99 3823.46\n",
       "X13 3    36-45  1    50 1037.479 1593.022 469.905 697.744 609.964 13.99 9159.00\n",
       "X14 4    46-55  1    50 1191.420 1600.749 752.955 886.494 911.502 24.47 9621.70\n",
       "X15 5    56-65  1    50  928.595  971.622 586.445 743.451 669.446 20.79 4029.12\n",
       "X16 6    66-90  1    50  575.432  610.287 345.345 465.615 435.647 19.90 3023.65\n",
       "    range   skew  kurtosis se     \n",
       "X11 2857.82 2.033  5.564    76.289\n",
       "X12 3798.47 2.704  8.893    96.369\n",
       "X13 9145.01 3.253 12.449   225.287\n",
       "X14 9597.23 3.192 13.142   226.380\n",
       "X15 4008.33 1.596  1.978   137.408\n",
       "X16 3003.75 1.758  3.558    86.308"
      ]
     },
     "metadata": {},
     "output_type": "display_data"
    }
   ],
   "source": [
    "summary(IMS); describeBy(IMS$Sales, IMS$Age, mat=TRUE,type=3,digits=3)"
   ]
  },
  {
   "cell_type": "markdown",
   "metadata": {},
   "source": [
    "Table 1: Summary statistics from the original data\n",
    "\n",
    "The values of the first four moments (mean, standard deviation, skewness and kurtosis) of the six samples show that probably the basic assumptions of our model, normality and homocesdasticity, can't be satisfied, so ANOVA cannot be applied appropriately. In fact, we have a positive skew in all groups and values for variance with substantial relative differences, i.e., a presumably presence of non normality and heteroscedasticity in residuals $\\epsilon_{ij}$.\n",
    "\n",
    "We have drawn some graphs to visually explore and have an overview picture and capture some of the differences between the  age groups."
   ]
  },
  {
   "cell_type": "code",
   "execution_count": 4,
   "metadata": {
    "collapsed": false
   },
   "outputs": [
    {
     "data": {
      "image/png": "[encoded data removed]",
      "text/plain": [
       "Plot with title \"Histogram of IMS$Sales\""
      ]
     },
     "metadata": {},
     "output_type": "display_data"
    }
   ],
   "source": [
    "hist(IMS$Sales, 30)\n",
    "#plot(density(IMS$Sales, kernel = 'e'))"
   ]
  },
  {
   "cell_type": "markdown",
   "metadata": {},
   "source": [
    "Graphic 1: Histogram of Sales\n",
    "\n",
    "The histogram shows that the distribution of the customer purchases exhibits a heavy-tailed structure. \n",
    "\n",
    "We can also see that the distributions are right-skewed, due to a concentration of customers with low amount of purchases. The difference between means and medians, within each group, is influenced by the presence of outliers, particularly in age groups 3 and 4, where the amount purchased exceeds the 9.000 monetary units. \n",
    "\n",
    "The coefficient of variation is greater than 1 in all groups, which indicates a relatively high variation."
   ]
  },
  {
   "cell_type": "code",
   "execution_count": 5,
   "metadata": {
    "collapsed": false
   },
   "outputs": [
    {
     "data": {
      "image/png": "[encoded data removed]",
      "text/plain": [
       "plot without title"
      ]
     },
     "metadata": {},
     "output_type": "display_data"
    }
   ],
   "source": [
    "salesMatrix = cbind(group.1[,2], group.2[,2], group.3[,2],group.4[,2], group.5[,2], group.6[,2])\n",
    "panel.qq = function(x, y, ...) {\n",
    "  usr = par(\"usr\"); on.exit(par(usr))\n",
    "  par(usr = c(0, 1, 0, 1), new = TRUE)\n",
    "  qqplot(x, y, xlab = deparse(substitute(x)), ylab = deparse(substitute(y)))\n",
    "  abline(c(0,1), ...)\n",
    "}\n",
    "# pairs using Q-Q in the lower panel\n",
    "pairs(salesMatrix, lower.panel = panel.qq)"
   ]
  },
  {
   "cell_type": "markdown",
   "metadata": {},
   "source": [
    "Graphic 2: Samples comparisons in upper diagonal and Q - Q Plots between samples in lower diagonal.\n",
    "\n",
    "Visually, the direct comparison between groups quantiles, also confirms the behavior of residuals $\\epsilon_{ij} $ (non normal and heteroscedastic) that we have identified before. \n",
    "\n",
    "Since we have $Sales_{ij} > 0$, we have tested a power transformation for different values of $\\lambda$'s over the variable $Sales$, $Y = (Sales)^\\lambda$, in order to explore the existence of some properties like symmetry or central tendency. We have high variability and a proportionality between the variance and the means of each group, so, a useful transformation for correcting skewness and, at the same time, to handle the outliers is the logarithmic function. "
   ]
  },
  {
   "cell_type": "code",
   "execution_count": 6,
   "metadata": {
    "collapsed": false
   },
   "outputs": [
    {
     "data": {
      "image/png": "[encoded data removed]",
      "text/plain": [
       "Plot with title \"Geometric mean (Sales)  ~ Age Group\""
      ]
     },
     "metadata": {},
     "output_type": "display_data"
    }
   ],
   "source": [
    "lnIMS = IMS; lnIMS$Sales = log(IMS$Sales)\n",
    "par(mfrow=c(2,2)); \n",
    "hist(IMS$Sales, 50,  main = \"Histogram of Sales\"); \n",
    "hist(lnIMS$Sales, 30, main = \"Histogram of Log Sales\")\n",
    "plotM = plotmeans(formula = Sales ~ Age,\n",
    " data = IMS,\n",
    " xlab = \"Age Group (factor)\",\n",
    " ylab = \"Sales (mean)\",\n",
    " n.label = FALSE,\n",
    " main=\"Mean (Sales) ~ Age Group\")\n",
    "plotLgM = plotmeans(formula = Sales ~ Age,\n",
    " data = lnIMS,\n",
    " xlab = \"Age Group (factor)\",\n",
    " ylab = \"Geometric mean (Sales)\",\n",
    " n.label = FALSE,\n",
    " main=\"Geometric mean (Sales)  ~ Age Group\")"
   ]
  },
  {
   "cell_type": "markdown",
   "metadata": {},
   "source": [
    "Graphic 3: Histograms and Plots of Group Means and Confidence Intervals from the original and from the transformed data\n"
   ]
  },
  {
   "cell_type": "code",
   "execution_count": 7,
   "metadata": {
    "collapsed": false
   },
   "outputs": [
    {
     "data": {
      "image/png": "[encoded data removed]",
      "text/plain": [
       "plot without title"
      ]
     },
     "metadata": {},
     "output_type": "display_data"
    }
   ],
   "source": [
    "plot1 = ggplot(IMS, aes(x = Age, y = Sales)) + \n",
    "    geom_boxplot(fill = \"grey80\", colour = \"black\") + \n",
    "    scale_x_discrete() + \n",
    "    xlab(\"Age Group (factor)\") + ylab(\"Sales (€)\")\n",
    "plot2 = ggplot(lnIMS, aes(x = Age, y = Sales)) + \n",
    "    geom_boxplot(fill = \"grey80\", colour = \"black\") + \n",
    "    scale_x_discrete() + \n",
    "    xlab(\"Age Group (factor)\") + ylab(\"Log Sales\")\n",
    "plot3 = ggplot(IMS, aes(x = Age, y = Sales)) +\n",
    "      xlab(\"Age Group (factor)\") + ylab(\"Sales (€)\")+ geom_point()\n",
    "plot4 = ggplot(lnIMS, aes(x = Age, y = Sales)) +\n",
    "      xlab(\"Age Group (factor)\") + ylab(\"Log Sales\")+ geom_point()\n",
    "grid.arrange(plot1, plot2, plot3, plot4, ncol=2)"
   ]
  },
  {
   "cell_type": "markdown",
   "metadata": {},
   "source": [
    "Graphic 4: Box Plots from the original and transformed data\n",
    "\n",
    "In the box plot we can see the six age groups of customers through their quartiles of `Sales` and `Log Sales`. The `whiskers` gives us the variability, outside the upper and lower quartiles, and a unique `outlier`, in `56-65` group,  plotted as an individual point.\n",
    "\n",
    "The applied transformation has normalized the variable and removed almost all outliers from the six samples. "
   ]
  },
  {
   "cell_type": "code",
   "execution_count": 8,
   "metadata": {
    "collapsed": false
   },
   "outputs": [
    {
     "data": {
      "text/html": [
       "<table>\n",
       "<thead><tr><th></th><th scope=col>item</th><th scope=col>group1</th><th scope=col>vars</th><th scope=col>n</th><th scope=col>mean</th><th scope=col>sd</th><th scope=col>median</th><th scope=col>trimmed</th><th scope=col>mad</th><th scope=col>min</th><th scope=col>max</th><th scope=col>range</th><th scope=col>skew</th><th scope=col>kurtosis</th><th scope=col>se</th></tr></thead>\n",
       "<tbody>\n",
       "\t<tr><th scope=row>X11</th><td>1     </td><td>18-25 </td><td>1     </td><td>50    </td><td>5.566 </td><td>1.307 </td><td>5.967 </td><td>5.636 </td><td>1.301 </td><td>2.484 </td><td>7.962 </td><td>5.478 </td><td>-0.455</td><td>-0.728</td><td>0.185 </td></tr>\n",
       "\t<tr><th scope=row>X12</th><td>2     </td><td>26-35 </td><td>1     </td><td>50    </td><td>5.735 </td><td>1.181 </td><td>6.045 </td><td>5.748 </td><td>0.982 </td><td>3.218 </td><td>8.249 </td><td>5.030 </td><td>-0.228</td><td>-0.737</td><td>0.167 </td></tr>\n",
       "\t<tr><th scope=row>X13</th><td>3     </td><td>36-45 </td><td>1     </td><td>50    </td><td>6.059 </td><td>1.457 </td><td>6.151 </td><td>6.091 </td><td>1.537 </td><td>2.638 </td><td>9.122 </td><td>6.484 </td><td>-0.216</td><td>-0.602</td><td>0.206 </td></tr>\n",
       "\t<tr><th scope=row>X14</th><td>4     </td><td>46-55 </td><td>1     </td><td>50    </td><td>6.278 </td><td>1.470 </td><td>6.623 </td><td>6.364 </td><td>1.140 </td><td>3.197 </td><td>9.172 </td><td>5.974 </td><td>-0.469</td><td>-0.719</td><td>0.208 </td></tr>\n",
       "\t<tr><th scope=row>X15</th><td>5     </td><td>56-65 </td><td>1     </td><td>50    </td><td>6.233 </td><td>1.262 </td><td>6.374 </td><td>6.325 </td><td>1.159 </td><td>3.034 </td><td>8.301 </td><td>5.267 </td><td>-0.606</td><td>-0.165</td><td>0.178 </td></tr>\n",
       "\t<tr><th scope=row>X16</th><td>6     </td><td>66-90 </td><td>1     </td><td>50    </td><td>5.716 </td><td>1.300 </td><td>5.844 </td><td>5.786 </td><td>1.260 </td><td>2.991 </td><td>8.014 </td><td>5.024 </td><td>-0.478</td><td>-0.735</td><td>0.184 </td></tr>\n",
       "</tbody>\n",
       "</table>\n"
      ],
      "text/latex": [
       "\\begin{tabular}{r|lllllllllllllll}\n",
       "  & item & group1 & vars & n & mean & sd & median & trimmed & mad & min & max & range & skew & kurtosis & se\\\\\n",
       "\\hline\n",
       "\tX11 & 1      & 18-25  & 1      & 50     & 5.566  & 1.307  & 5.967  & 5.636  & 1.301  & 2.484  & 7.962  & 5.478  & -0.455 & -0.728 & 0.185 \\\\\n",
       "\tX12 & 2      & 26-35  & 1      & 50     & 5.735  & 1.181  & 6.045  & 5.748  & 0.982  & 3.218  & 8.249  & 5.030  & -0.228 & -0.737 & 0.167 \\\\\n",
       "\tX13 & 3      & 36-45  & 1      & 50     & 6.059  & 1.457  & 6.151  & 6.091  & 1.537  & 2.638  & 9.122  & 6.484  & -0.216 & -0.602 & 0.206 \\\\\n",
       "\tX14 & 4      & 46-55  & 1      & 50     & 6.278  & 1.470  & 6.623  & 6.364  & 1.140  & 3.197  & 9.172  & 5.974  & -0.469 & -0.719 & 0.208 \\\\\n",
       "\tX15 & 5      & 56-65  & 1      & 50     & 6.233  & 1.262  & 6.374  & 6.325  & 1.159  & 3.034  & 8.301  & 5.267  & -0.606 & -0.165 & 0.178 \\\\\n",
       "\tX16 & 6      & 66-90  & 1      & 50     & 5.716  & 1.300  & 5.844  & 5.786  & 1.260  & 2.991  & 8.014  & 5.024  & -0.478 & -0.735 & 0.184 \\\\\n",
       "\\end{tabular}\n"
      ],
      "text/markdown": [
       "\n",
       "| <!--/--> | item | group1 | vars | n | mean | sd | median | trimmed | mad | min | max | range | skew | kurtosis | se | \n",
       "|---|---|---|---|---|---|\n",
       "| X11 | 1      | 18-25  | 1      | 50     | 5.566  | 1.307  | 5.967  | 5.636  | 1.301  | 2.484  | 7.962  | 5.478  | -0.455 | -0.728 | 0.185  | \n",
       "| X12 | 2      | 26-35  | 1      | 50     | 5.735  | 1.181  | 6.045  | 5.748  | 0.982  | 3.218  | 8.249  | 5.030  | -0.228 | -0.737 | 0.167  | \n",
       "| X13 | 3      | 36-45  | 1      | 50     | 6.059  | 1.457  | 6.151  | 6.091  | 1.537  | 2.638  | 9.122  | 6.484  | -0.216 | -0.602 | 0.206  | \n",
       "| X14 | 4      | 46-55  | 1      | 50     | 6.278  | 1.470  | 6.623  | 6.364  | 1.140  | 3.197  | 9.172  | 5.974  | -0.469 | -0.719 | 0.208  | \n",
       "| X15 | 5      | 56-65  | 1      | 50     | 6.233  | 1.262  | 6.374  | 6.325  | 1.159  | 3.034  | 8.301  | 5.267  | -0.606 | -0.165 | 0.178  | \n",
       "| X16 | 6      | 66-90  | 1      | 50     | 5.716  | 1.300  | 5.844  | 5.786  | 1.260  | 2.991  | 8.014  | 5.024  | -0.478 | -0.735 | 0.184  | \n",
       "\n",
       "\n"
      ],
      "text/plain": [
       "    item group1 vars n  mean  sd    median trimmed mad   min   max   range\n",
       "X11 1    18-25  1    50 5.566 1.307 5.967  5.636   1.301 2.484 7.962 5.478\n",
       "X12 2    26-35  1    50 5.735 1.181 6.045  5.748   0.982 3.218 8.249 5.030\n",
       "X13 3    36-45  1    50 6.059 1.457 6.151  6.091   1.537 2.638 9.122 6.484\n",
       "X14 4    46-55  1    50 6.278 1.470 6.623  6.364   1.140 3.197 9.172 5.974\n",
       "X15 5    56-65  1    50 6.233 1.262 6.374  6.325   1.159 3.034 8.301 5.267\n",
       "X16 6    66-90  1    50 5.716 1.300 5.844  5.786   1.260 2.991 8.014 5.024\n",
       "    skew   kurtosis se   \n",
       "X11 -0.455 -0.728   0.185\n",
       "X12 -0.228 -0.737   0.167\n",
       "X13 -0.216 -0.602   0.206\n",
       "X14 -0.469 -0.719   0.208\n",
       "X15 -0.606 -0.165   0.178\n",
       "X16 -0.478 -0.735   0.184"
      ]
     },
     "metadata": {},
     "output_type": "display_data"
    }
   ],
   "source": [
    "describeBy( lnIMS$Sales, lnIMS$Age, mat=TRUE, type=3, digits=3 )"
   ]
  },
  {
   "cell_type": "markdown",
   "metadata": {},
   "source": [
    "Table 2: Summary statistics from the transformed data"
   ]
  },
  {
   "cell_type": "code",
   "execution_count": 9,
   "metadata": {
    "collapsed": false
   },
   "outputs": [],
   "source": [
    "#par(mfrow=c(2,1))\n",
    "IMS.model.1 = lm(Sales ~ Age, data = IMS); #summary(residuals(IMS.model.1)); hist(residuals(IMS.model.1),30,main=\"residuals\")\n",
    "IMS.model.lognormal = lm(Sales ~ Age, data = lnIMS); #summary(residuals(IMS.model.lognormal));\n",
    "#hist(residuals(IMS.model.lognormal),30,main=\" \")"
   ]
  },
  {
   "cell_type": "markdown",
   "metadata": {},
   "source": [
    "## 3.2 DISTRIBUTION FITTING TESTS"
   ]
  },
  {
   "cell_type": "markdown",
   "metadata": {},
   "source": [
    "** Testing Normality**\n",
    "\n",
    "We have tested the normality condition for the response variable:\n",
    "\n",
    "<center>$X_i \\sim N(\\mu_i,\\sigma_i)$, unknown parameters, $i = 1 … 6$</center>\n",
    "\n",
    "using the following test statistics:\n",
    "\n",
    "-\tLilliefors’ test\n",
    "\n",
    "-\tShapiro-Wilk test\n",
    "\n",
    "The difference between our observed measures and the predictions of the statistical model we use, i.e., the residuals, was also inspected .\n",
    "\n",
    "For the transformed variable, $Y_i = ln(X_i)$, we have followed the same process ."
   ]
  },
  {
   "cell_type": "code",
   "execution_count": 10,
   "metadata": {
    "collapsed": false
   },
   "outputs": [],
   "source": [
    "# normality tests\n",
    "## response variable\n",
    "### lillie.test \n",
    "lillie.test.groups.response = tapply(IMS$Sales,IMS$Age,lillie.test); # lillie.test.groups.response\n",
    "### shapiro.test\n",
    "shapiro.test.groups.response = tapply(IMS$Sales,IMS$Age,shapiro.test); # shapiro.test.groups.response\n",
    "\n",
    "## transformed variable Y\n",
    "### lillie.test \n",
    "lillie.test.groups.response.ln = tapply(lnIMS$Sales,lnIMS$Age,lillie.test); # lillie.test.groups.response.ln\n",
    "### shapiro.test\n",
    "shapiro.test.groups.response.ln = tapply(lnIMS$Sales,lnIMS$Age,shapiro.test); # shapiro.test.groups.response.ln"
   ]
  },
  {
   "cell_type": "markdown",
   "metadata": {},
   "source": [
    "<pre>\n",
    "---\n",
    "|Age Group | Lilliefors: D | Lilliefors: p-value | Shapiro-Wilk: W | Shapiro-Wilk: p-value |\n",
    "|:-------:|:--------:|:--------:|:--------:|:--------:|\n",
    "| G1 | 0.18294 | 0.0002349 | 0.79052 | 5.338e-07 |\n",
    "|**ln G1** | **0.13272** | **0.02783** | **0.95776** | **0.07162** |\n",
    "| G2 | 0.22435 | 1.126e-06 | 0.68808 | 5.089e-09|\n",
    "| **ln G2** | **0.12083** | **0.06556** | **0.96587** | **0.1564** |\n",
    "| G3 | 0.26028 | 3.909e-09 | 0.60694 | 2.472e-10 |\n",
    "| **ln G3** | **0.083945** | **0.5094** | **0.98399** | **0.7273** |\n",
    "| G4 | 0.233 | 3.142e-07 | 0.65773 | 1.554e-09 |\n",
    "| **ln G4** | **0.12935** | **0.03585** | **0.94985** | **0.03363** |\n",
    "| G5 |  0.19654\t| 4.675e-05 | 0.80191 | 9.703e-07 |\n",
    "| **ln G5** | **0.11178** | **0.1228** | **0.95889** | **0.07983** |\n",
    "| G6 | 0.18851 | 0.0001233 | 0.80864 | 1.394e-06 |\n",
    "| **ln G6** | **0.12201** | **0.06051** | **0.95164** | **0.03986**|\n",
    "\n",
    "\n",
    "| Lilliefors Critical Value | Shapiro-Wilk Critical Value $\\alpha$ = (0.05; 0.01) |\n",
    "|:-------:|:--------:|\n",
    "| $D$ = $\\frac {0.886}{\\sqrt {50}} = 0.1253$ |  $W$ = (0.947; 0.930) |\n",
    "\n",
    "</pre>\n",
    "\n",
    "Table 3: Output from the Lilliefors and Shapiro-Wilk tests\n",
    "\n",
    "\n",
    "\n",
    "**Lilliefors Test for Normality of original data**\n",
    "\n",
    "The hypothesis regarding normal distribution is rejected if the test statistic, $D$, is greater than the critical value. From the table, for $\\alpha = 0.05$ and $N > 40$, we have $\\frac {0.886}{\\sqrt {50}} = 0.1253$.\n",
    "\n",
    "\n",
    ">  Critical Value (upper tail): $D_{crit} = 0.1253$\n",
    "\n",
    ">  Critical Region: Reject $H_0$ if $D_{obs} > 0.1253$ \n",
    "\n",
    "We should reject the null hypothesis at the 0.05 significance level since the value of the Lilliefors test statistic is greater than the critical value in all age groups. So, we assume that there is statistical evidence to claim that the six samples may not come from a population with a normal distribution.\n",
    "\n",
    "> <font color=\"red\">Reject $H_0$</font> for $Sales_i$ , i.e.,  we reject the hypothesis that we have six samples that  come from a population with a normal distribution against the alternative that exists one sample, at least, that doesn't come from a population with a normal distribution.\n",
    "\n",
    "**Shapiro-Wilk Test for Normality of original data**\n",
    "\n",
    "The hypothesis regarding normal distribution is rejected if the test statistic, $W_{obs}$, is lower than the critical value$W_{crit}$. From the table, for $\\alpha = 0.05$ and $N = 50$, we have $W_{crit} = 0.947$.\n",
    "\n",
    "\n",
    ">  Critical Value (upper tail): $W_{crit} = 0.947$\n",
    "\n",
    ">  Critical Region: Reject $H_0$ if $W_{obs} < 0.947$ ($p-value < 0.05$)\n",
    "\n",
    "We should reject the null hypothesis at the 0.05 significance level since the value of the Shapiro-Wilk test statistic is lower than the critical value in all age groups. In fact, small values of W are evidence of departure from normality. So, we conclude that there is statistical evidence to claim that the six samples may not come from a population with a normal distribution.\n",
    "\n",
    "\n",
    "> <font color=\"red\">Reject $H_0$</font> for $Sales_i$ , i.e.,  we reject the hypothesis that we have six samples that  come from a population with a normal distribution against the alternative that exists one sample, at least, that doesn't come from a population with a normal distribution.\n",
    "\n",
    "---\n",
    "\n",
    "**Lilliefors and Shapiro-Wilk tests for transformed data**\n",
    "\n",
    "However, for the transformed variable $Y_i = ln(Sales_i)$, the result for the test statistics Lilliefors was almost all \"positive\" for the six samples, and for Shapiro-Wilk, was \"positive\" for all the six samples. So, we will assume that there is statistical evidence to claim that the six samples may come from a population with a **lognormal distribution** since the Shapiro-Wilk test usually presents a higher power when compared with other tests, including Lilliefors.\n",
    "\n",
    "> <font color='green'>Do Not Reject $H_0$</font> for the transformed variable $Y_i = ln(Sales_i)$, i.e., we accept the hypothesis that we have six samples that come from a population with a lognormal distribution against the alternative that exists one sample, at least, that doesn't come from a population with a lognormal distribution.\n",
    "\n",
    "**Residuals **\n",
    "\n",
    "A check of the normality assumption could be made by inspecting Q-Q Normal plots."
   ]
  },
  {
   "cell_type": "code",
   "execution_count": 11,
   "metadata": {
    "collapsed": false
   },
   "outputs": [
    {
     "data": {
      "image/png": "[encoded data removed]",
      "text/plain": [
       "Plot with title \"Normal Q-Q Plot\""
      ]
     },
     "metadata": {},
     "output_type": "display_data"
    }
   ],
   "source": [
    "IMS.model.1 = lm(Sales ~ Age, data = IMS); \n",
    "#summary(residuals(IMS.model.1)); hist(residuals(IMS.model.1),30,main=\"residuals\")\n",
    "IMS.model.lognormal = lm(Sales ~ Age, data = lnIMS); #summary(residuals(IMS.model.lognormal));\n",
    "# Q-Q plots for groups residuals (6 original + 6 transformed)\n",
    "functionQQNormLine = function(data){\n",
    "  qqnorm(data)\n",
    "  qqline(data)\n",
    "}\n",
    "par(mfrow=c(4,3))\n",
    "qqNormPlots.residuals = tapply(residuals(IMS.model.1),IMS$Age,functionQQNormLine)\n",
    "qqNormPlots.residuals.ln = tapply(residuals(IMS.model.lognormal),lnIMS$Age,functionQQNormLine)"
   ]
  },
  {
   "cell_type": "markdown",
   "metadata": {},
   "source": [
    "Graphic 5: Q - Q Normal Plots: First 6 Q-Q, residuals from Sales ~ Age and, the last 6, residuals from Y ~ Age.\n",
    "\n",
    "\n",
    "The Graphic 5, Q-Q Normal plots, illustrates the comparison between quantils of residuals in the six empirical samples and the quantils in a theoretical normal distribution (the line across the diagonal). In a first inspection on the Q-Q plots, in the first 6, we see some departure from normality, while for $Y_i$, the last 6, we can see some adherence to normality."
   ]
  },
  {
   "cell_type": "markdown",
   "metadata": {},
   "source": [
    "## 3.3 TESTS FOR EQUALITY OF VARIANCES"
   ]
  },
  {
   "cell_type": "markdown",
   "metadata": {},
   "source": [
    "We will test the homoscedasticity condition for $Y_i$ using the following test statistics:\n",
    "\n",
    "-\tBartlett’s test;\n",
    "\n",
    "-\tLevene’s test (mean, median)."
   ]
  },
  {
   "cell_type": "markdown",
   "metadata": {},
   "source": [
    "**Bartlett**\n",
    "\n",
    "The critical value for Bartlett test of homogeneity of variances, is given by $\\chi_{obs}^2 > \\chi^2_{1-\\alpha, \\, 5}$ , where $\\chi^2_{1-\\alpha, \\, 5}$ is the critical value of the chi-square distribution with $5$ degrees of freedom and a significance level of $\\alpha$. From the table, for $\\alpha = 0.05$, we have $P(\\chi^2_{1-0.05, \\, 5} < 11.070) = 0.95$."
   ]
  },
  {
   "cell_type": "code",
   "execution_count": 12,
   "metadata": {
    "collapsed": false
   },
   "outputs": [
    {
     "data": {
      "text/plain": [
       "\n",
       "\tBartlett test of homogeneity of variances\n",
       "\n",
       "data:  Sales by Age\n",
       "Bartlett's K-squared = 3.5119, df = 5, p-value = 0.6216\n"
      ]
     },
     "metadata": {},
     "output_type": "display_data"
    }
   ],
   "source": [
    "bartlett.test(Sales ~ Age, lnIMS)"
   ]
  },
  {
   "cell_type": "markdown",
   "metadata": {},
   "source": [
    "Since we have $\\chi_{obs}^2 = 3.5119 < 11.070 = \\chi^2_{crit}$, and a $p-value$ of $0.6216$. \n",
    "\n",
    ">  Critical Value (upper tail): $\\chi^2_{1-0.05, \\, 5} = 11.070$\n",
    "\n",
    ">  Critical Region: Reject $H_0$ if $\\chi_{obs}^2 = 3.5119 > \\chi^2_{crit} = 11.070$ \n",
    "\n",
    "We fail to reject the null hypothesis at the 0.05 significance level since the value of the Bartlett test statistic is smaller than the critical value. We conclude that there is insufficient evidence to claim that the variances are not equal. \n",
    "\n",
    "> <font color=\"green\">Do Not Reject $H_0$</font> for $ln(Sales_i)$ , i.e.,  we cannot reject the hypothesis that we have equality of variances across age groups against the alternative that variances are unequal for at least two age groups."
   ]
  },
  {
   "cell_type": "markdown",
   "metadata": {},
   "source": [
    "**Levene Test**\n",
    "\n",
    "We have tested with the mean as the center of each group to Levene's test. The median is better for skewed data, however, as we have assumed the samples come from a lognormal distribution, we will use Levene test instead of Brown–Forsythe test."
   ]
  },
  {
   "cell_type": "code",
   "execution_count": 13,
   "metadata": {
    "collapsed": false
   },
   "outputs": [
    {
     "data": {
      "text/html": [
       "<table>\n",
       "<thead><tr><th></th><th scope=col>Df</th><th scope=col>F value</th><th scope=col>Pr(&gt;F)</th></tr></thead>\n",
       "<tbody>\n",
       "\t<tr><th scope=row>group</th><td>  5      </td><td>0.8619505</td><td>0.5070482</td></tr>\n",
       "\t<tr><th scope=row> </th><td>294      </td><td>       NA</td><td>       NA</td></tr>\n",
       "</tbody>\n",
       "</table>\n"
      ],
      "text/latex": [
       "\\begin{tabular}{r|lll}\n",
       "  & Df & F value & Pr(>F)\\\\\n",
       "\\hline\n",
       "\tgroup &   5       & 0.8619505 & 0.5070482\\\\\n",
       "\t  & 294       &        NA &        NA\\\\\n",
       "\\end{tabular}\n"
      ],
      "text/markdown": [
       "\n",
       "| <!--/--> | Df | F value | Pr(>F) | \n",
       "|---|---|\n",
       "| group |   5       | 0.8619505 | 0.5070482 | \n",
       "|   | 294       |        NA |        NA | \n",
       "\n",
       "\n"
      ],
      "text/plain": [
       "      Df  F value   Pr(>F)   \n",
       "group   5 0.8619505 0.5070482\n",
       "      294        NA        NA"
      ]
     },
     "metadata": {},
     "output_type": "display_data"
    }
   ],
   "source": [
    "leveneTest(Sales ~ Age, data=lnIMS, center=\"mean\" )  # Levene Test \n",
    "#leveneTest(Sales ~ Age, data=lnIMS, center=\"median\") # Brown–Forsythe Test"
   ]
  },
  {
   "cell_type": "markdown",
   "metadata": {},
   "source": [
    "> Critical Value (upper tail): $F_{(0.05 ; 5 ; 294)} = 2.21$\n",
    ">\n",
    "> Critical Region: Reject $H_0$ if $F_{obs} = 0.86195 > F_{(0.05 ; 5 ; 294)} = 2.21$\n",
    "\n",
    "We fail to reject the null hypothesis at the 0.05 significance level since the value of the Levene test statistic is smaller than the critical value. We conclude that there is insufficient evidence to claim that the variances are not equal. \n",
    "\n",
    "> <font color=\"green\">Do Not Reject $H_0$</font> for $ln(Sales_i)$ , i.e.,  we cannot reject the hypothesis that we have equality of variances across age groups against the alternative that variances are unequal for at least two age groups."
   ]
  },
  {
   "cell_type": "markdown",
   "metadata": {},
   "source": [
    "## 3.4. ANALYSIS OF VARIANCE"
   ]
  },
  {
   "cell_type": "markdown",
   "metadata": {},
   "source": [
    "After the verification of ANOVA assumptions we were finally in conditions to apply the analysis of variance on $Y_i$.\n",
    "\n",
    "$SQT = SQTr + SQE$ \n",
    "\n",
    "Total variation in $ln(Sales)$ = Variation explained by $Age$ + Variation due to error"
   ]
  },
  {
   "cell_type": "code",
   "execution_count": 14,
   "metadata": {
    "collapsed": false
   },
   "outputs": [
    {
     "data": {
      "text/plain": [
       "             Df Sum Sq Mean Sq F value Pr(>F)  \n",
       "Age           5   22.3   4.453   2.504 0.0306 *\n",
       "Residuals   294  522.8   1.778                 \n",
       "---\n",
       "Signif. codes:  0 '***' 0.001 '**' 0.01 '*' 0.05 '.' 0.1 ' ' 1"
      ]
     },
     "metadata": {},
     "output_type": "display_data"
    }
   ],
   "source": [
    "model.anova = aov( Sales ~ Age, lnIMS ) # one-way anova model\n",
    "summary(model.anova) # display Type I ANOVA table"
   ]
  },
  {
   "cell_type": "markdown",
   "metadata": {},
   "source": [
    "#### ANOVA\n",
    "\n",
    "In our statistical model, the factor age of the customer is only responsible for 4% of the total variability.\n",
    "\n",
    "<center>$\\eta^2 = \\frac {SQTr}{SQE} = \\frac {22.3}{22.3 + 522.8} = 0.04$</center>\n",
    "\n",
    "In other words, of all the variability that exists within the dependent variable $Y = ln(Sales)$, only 4% is associated with variability in the independent variable \"Age Group\".\n",
    "\n",
    "The critical value for the $F$ test, at a significance level of $0.05$, is such that $P(F_{(5,294)} < 2.21) = 0.95$. \n",
    " \n",
    "\n",
    ">  Critical Value (upper tail): $F_{(5,294)} = 2.21$\n",
    "\n",
    ">  Critical Region: Reject $H_0$ if $F_{obs} = 2.5037 > F_{crit} = 2.21$ \n",
    "\n",
    "We should reject the null hypothesis at the 0.05 significance level since the value of $F_{obs} = 2.5037$ is greater than the critical value $F_{crit} = 2.21$, with a $p-value$ of $0.0306$. In fact, large values of $F$ are evidence against $H_0$. So, we assume that there is statistical evidence that the six age groups do not have an equal behavior, in mean value, in relation to $Y = ln(Sales)$ .\n",
    "\n",
    "\n",
    "<center>$H_0 :   \\mu_1 = \\mu_2 = \\mu_3 = \\mu_4 = \\mu_5 = \\mu_6$</center>\n",
    "\n",
    "<center>$H_1 : \\exists_{i,j(i \\neq j)} :  \\mu_i \\neq \\mu_j $</center>\n",
    "\n",
    "> <font color=\"red\">Reject $H_0$</font> for $Y_i= ln(Sales_i)$ , i.e.,  we reject the hypothesis that we have six samples with equal means against the alternative that exists one sample, at least, that doesn't have the same mean.\n",
    "\n",
    "---\n"
   ]
  },
  {
   "cell_type": "markdown",
   "metadata": {},
   "source": [
    "## 3.5. MULTIPLE COMPARISON TESTS\n",
    "\n",
    "\n",
    "### 3.5.1. Tukey HSD Test\n",
    "\n",
    "We have applied the Tukey method for each of the 15 different comparisons between $\\mu_i$ and $\\mu_j$ for $i \\neq j$ of $Y$. \n",
    "<pre>\n",
    "------------------------------------------\n",
    "| 1 | 2 | 3 | 4 | 5 | 6 | 7 | 8 | 9 | 10 | 11 | 12 | 13 | 14 | 15 |\n",
    "|:----:|:-----:|:-----:|:-----:|:-----:|:-----:|:-----:|:-----:|:-----:|:-----:|:-----:|:-----:|:-----:|:-----:|:-----:|\n",
    "| $\\mu_2-\\mu_1 $ | $ \\mu_3 - \\mu_1 $|$ \\mu_4 - \\mu_1 $|$ \\mu_5 - \\mu_1 $|$ \\mu_6 - \\mu_1 $|$ \\mu_3-\\mu_2 $|$ \\mu_4 - \\mu_2 $|$ \\mu_5 - \\mu_2 $|$ \\mu_6 - \\mu_2 $|$ \\mu_4-\\mu_3 $|$ \\mu_5 - \\mu_3 $|$ \\mu_6 - \\mu_3 $|$ \\mu_5-\\mu_4 $|$ \\mu_6 - \\mu_4 $|$ \\mu_6-\\mu_5$ |\n",
    "\n",
    "</pre>\n"
   ]
  },
  {
   "cell_type": "code",
   "execution_count": 15,
   "metadata": {
    "collapsed": false
   },
   "outputs": [
    {
     "data": {
      "text/plain": [
       "  Tukey multiple comparisons of means\n",
       "    95% family-wise confidence level\n",
       "\n",
       "Fit: aov(formula = Sales ~ Age, data = lnIMS)\n",
       "\n",
       "$Age\n",
       "                   diff         lwr       upr     p adj\n",
       "26-35-18-25  0.16954455 -0.59554950 0.9346386 0.9882440\n",
       "36-45-18-25  0.49291241 -0.27218164 1.2580065 0.4365625\n",
       "46-55-18-25  0.71187170 -0.05322235 1.4769657 0.0846618\n",
       "56-65-18-25  0.66682736 -0.09826669 1.4319214 0.1273629\n",
       "66-90-18-25  0.15040659 -0.61468746 0.9155006 0.9932278\n",
       "36-45-26-35  0.32336786 -0.44172619 1.0884619 0.8306126\n",
       "46-55-26-35  0.54232714 -0.22276691 1.3074212 0.3259705\n",
       "56-65-26-35  0.49728280 -0.26781125 1.2623769 0.4262403\n",
       "66-90-26-35 -0.01913796 -0.78423201 0.7459561 0.9999997\n",
       "46-55-36-45  0.21895928 -0.54613477 0.9840533 0.9635170\n",
       "56-65-36-45  0.17391494 -0.59117911 0.9390090 0.9868020\n",
       "66-90-36-45 -0.34250582 -1.10759987 0.4225882 0.7935560\n",
       "56-65-46-55 -0.04504434 -0.81013839 0.7200497 0.9999808\n",
       "66-90-46-55 -0.56146510 -1.32655915 0.2036289 0.2874553\n",
       "66-90-56-65 -0.51642076 -1.28151481 0.2486733 0.3821627\n"
      ]
     },
     "metadata": {},
     "output_type": "display_data"
    },
    {
     "data": {
      "image/png": "[encoded data removed]",
      "text/plain": [
       "Plot with title \"95% family-wise confidence level\n",
       "\""
      ]
     },
     "metadata": {},
     "output_type": "display_data"
    }
   ],
   "source": [
    "# Tukey Honestly Significant Differences\n",
    "TukeyHSD(model.anova, conf.level = 0.95) #  Tukey HSD\n",
    "plot(TukeyHSD(model.anova, conf.level = 0.95), las=1 ,cex.axis=0.60) # plot geometric diff means and C.I."
   ]
  },
  {
   "cell_type": "markdown",
   "metadata": {},
   "source": [
    "Graphic 6: Pairwise differences in means, 95% family-wise confidence level\n",
    "\n",
    "The simultaneous pairwise comparisons indicate that the differences between all six means are not significantly different from 0 because the value $0$ is inside all confidence intervals, with a confidence coefficient for the set equal to 0.95. In this post-ANOVA comparisons, the required percentile of the studentized range distribution is $q_{(0.05 ; 6 ; 294)} = 4.030$. \n",
    "\n",
    "This comparison of sample means is applied simultaneously to the set of all pairwise comparisons. However, this test does not tell whether any particular sample mean significantly differs from any particular other but for the purpose of our study this conclusion is sufficient.\n",
    "\n",
    "\n"
   ]
  },
  {
   "cell_type": "markdown",
   "metadata": {},
   "source": [
    "### 3.5.2. Hochberg (GF2)\n",
    "\n",
    "This is similar to Tukey method but critical values are based on the studentized maximum modulus distribution and is always more conservative than the Tukey test for balanced designs.\n",
    "\n",
    "**SAS OUTPUT **\n",
    "\n",
    "<img src=\"https://dl.dropboxusercontent.com/u/17169894/HochbergGF2.png\" alt=\"Graphic 7: SAS output for Hochberg (GF2)\">\n",
    "\n",
    "Graphic 7: SAS output for Hochberg (GF2)"
   ]
  },
  {
   "cell_type": "markdown",
   "metadata": {},
   "source": [
    "So, we may conclude that, at a significance level of 0.05, we have no statistical evidence to presume that exists one means that is significantly different from another."
   ]
  },
  {
   "cell_type": "markdown",
   "metadata": {},
   "source": [
    "### 3.5.3. Scheffé’s test\n",
    "\n",
    "We have rejected the null hypothesis in One-Way Analysis of Variance, it means that at least one of the means isn't the same as the other means, but we don't know wich of them are different. \n",
    "\n",
    "The critical value for the Scheffe' test, at a significance level of $0.05$, is $df_b * F_{crit}$, where $F_{crit}$ is the same that the one from the one-way ANOVA.\n",
    " \n",
    "\n",
    ">  Critical Value (upper tail): $5 * F_{(5,294)} = 5 * 2.21 = 11.05$\n",
    "\n",
    ">  Critical Region: Reject $H_0$ if $F_{obs} > F_{crit} = 11.05$ "
   ]
  },
  {
   "cell_type": "code",
   "execution_count": 16,
   "metadata": {
    "collapsed": false
   },
   "outputs": [
    {
     "name": "stdout",
     "output_type": "stream",
     "text": [
      "\n",
      "Study: Log Sales different Age Groups\n",
      "\n",
      "Scheffe Test for Sales \n",
      "\n",
      "Mean Square Error  : 1.778382 \n",
      "\n",
      "Age,  means\n",
      "\n",
      "         Sales      std  r      Min      Max\n",
      "18-25 5.565784 1.306936 50 2.484073 7.962001\n",
      "26-35 5.735328 1.181081 50 3.218476 8.248911\n",
      "36-45 6.058696 1.456912 50 2.638343 9.122492\n",
      "46-55 6.277655 1.470444 50 3.197448 9.171776\n",
      "56-65 6.232611 1.261684 50 3.034472 8.301303\n",
      "66-90 5.716190 1.300236 50 2.990720 8.014220\n",
      "\n",
      "alpha: 0.05 ; Df Error: 294 \n",
      "Critical Value of F: 2.244703 \n",
      "\n",
      "Minimum Significant Difference: 0.8935256 \n",
      "\n",
      "Means with the same letter are not significantly different.\n",
      "\n",
      "Groups, Treatments and means\n",
      "a \t 46-55 \t 6.278 \n",
      "a \t 56-65 \t 6.233 \n",
      "a \t 36-45 \t 6.059 \n",
      "a \t 26-35 \t 5.735 \n",
      "a \t 66-90 \t 5.716 \n",
      "a \t 18-25 \t 5.566 \n"
     ]
    }
   ],
   "source": [
    "lnIMS.means.comparisons = scheffe.test(model.anova,\"Age\", group=TRUE, console=TRUE,\n",
    "main=\"Log Sales different Age Groups\")\n",
    "#attributes(scheffe.test)"
   ]
  },
  {
   "cell_type": "markdown",
   "metadata": {},
   "source": [
    "So, we may conclude that, at a significance level of 0.05, we have no statistical evidence to presume that exists one means that is significantly different from another."
   ]
  },
  {
   "cell_type": "markdown",
   "metadata": {},
   "source": [
    "## 3.6. NONPARAMETRIC COUNTERPART OF ANALYSIS OF VARIANCE \n",
    "\n",
    "As we have seen in 3.2., our response variable $Sales$ failed in the assumption of normality. To test if the samples of the age groups come from the same population, or from identical populations, we will use nonparametric tests.\n",
    "\n",
    "\n",
    "### 3.6.1. Kruskal-Wallis Test\n",
    "\n",
    "\n",
    "<center>$H_0 : $ All the 6 samples come from the same population, or from identical populations</center>\n",
    "\n",
    "<center>$H_1 : $ Not all of the 6 samples come from the same population, or from identical populations in terms of location </center>\n"
   ]
  },
  {
   "cell_type": "code",
   "execution_count": 17,
   "metadata": {
    "collapsed": false
   },
   "outputs": [
    {
     "data": {
      "text/plain": [
       "\n",
       "\tKruskal-Wallis rank sum test\n",
       "\n",
       "data:  Sales by Age\n",
       "Kruskal-Wallis chi-squared = 13.22, df = 5, p-value = 0.0214\n"
      ]
     },
     "metadata": {},
     "output_type": "display_data"
    }
   ],
   "source": [
    "kruskal.test(Sales ~ Age, data = IMS)"
   ]
  },
  {
   "cell_type": "markdown",
   "metadata": {},
   "source": [
    "The critical value for the $H_0$ test, at a significance level of $0.05$, is such that $P(\\chi_{(0.05;5)}^2 < 11.070 ) = 0.95$. \n",
    " \n",
    "\n",
    ">  Critical Value (upper tail): $\\chi_{(0.05;5)}^2 = 11.070$\n",
    "\n",
    ">  Critical Region: Reject $H_0$ if $\\chi_{obs}^2 = 13.22 > \\chi_{crit}^2 = 11.070$\n",
    "\n",
    "We should reject the null hypothesis at the 0.05 significance level since the value of $\\chi_{obs}^2 = 13.22$ is greater than the critical value $\\chi_{crit}^2 = 11.070$, with a $p-value$ of $0.0214$. So, we assume that there is statistical evidence that all of the 6 samples may not come from the same population, or from identical populations in terms of location.\n",
    "\n",
    "> <font color=\"red\">Reject $H_0$</font> for $Sales_i$ , i.e.,  we reject the hypothesis that all the 6 samples come from the same population, or from identical populations, against the alternative that exists one sample, at least, that come from a different population. "
   ]
  },
  {
   "cell_type": "markdown",
   "metadata": {},
   "source": [
    "## 3.7. NONPARAMETRIC MULTIPLE COMPARISON TESTS"
   ]
  },
  {
   "cell_type": "markdown",
   "metadata": {},
   "source": [
    "### 3.7.1. Hodges-Lehmann test for independent samples\n",
    "\n",
    "\n",
    "The $Hodges-Lehmann$ estimator is the median of the combined data points and Walsh averages. It's the same as the pseudo-median returned as a by-product of the $Wilcoxon$ test."
   ]
  },
  {
   "cell_type": "code",
   "execution_count": 18,
   "metadata": {
    "collapsed": false
   },
   "outputs": [
    {
     "data": {
      "text/html": [
       "<dl class=dl-horizontal>\n",
       "\t<dt>18-25</dt>\n",
       "\t\t<dd>414.984978074357</dd>\n",
       "\t<dt>26-35</dt>\n",
       "\t\t<dd>433.579994400496</dd>\n",
       "\t<dt>36-45</dt>\n",
       "\t\t<dd>735.830018226812</dd>\n",
       "\t<dt>46-55</dt>\n",
       "\t\t<dd>871.115002417179</dd>\n",
       "\t<dt>56-65</dt>\n",
       "\t\t<dd>749.959998387523</dd>\n",
       "\t<dt>66-90</dt>\n",
       "\t\t<dd>479.355054545273</dd>\n",
       "</dl>\n"
      ],
      "text/plain": [
       "   18-25    26-35    36-45    46-55    56-65    66-90 \n",
       "414.9850 433.5800 735.8300 871.1150 749.9600 479.3551 "
      ]
     },
     "metadata": {},
     "output_type": "display_data"
    },
    {
     "data": {
      "text/html": [
       "<strong>difference in location:</strong> -17.3956545286404"
      ],
      "text/latex": [
       "\\textbf{difference in location:} -17.3956545286404"
      ],
      "text/markdown": [
       "**difference in location:** -17.3956545286404"
      ],
      "text/plain": [
       "difference in location \n",
       "             -17.39565 "
      ]
     },
     "metadata": {},
     "output_type": "display_data"
    },
    {
     "data": {
      "text/html": [
       "<strong>difference in location:</strong> -136.034168200745"
      ],
      "text/latex": [
       "\\textbf{difference in location:} -136.034168200745"
      ],
      "text/markdown": [
       "**difference in location:** -136.034168200745"
      ],
      "text/plain": [
       "difference in location \n",
       "             -136.0342 "
      ]
     },
     "metadata": {},
     "output_type": "display_data"
    },
    {
     "data": {
      "text/html": [
       "<strong>difference in location:</strong> -338.280979444067"
      ],
      "text/latex": [
       "\\textbf{difference in location:} -338.280979444067"
      ],
      "text/markdown": [
       "**difference in location:** -338.280979444067"
      ],
      "text/plain": [
       "difference in location \n",
       "              -338.281 "
      ]
     },
     "metadata": {},
     "output_type": "display_data"
    },
    {
     "data": {
      "text/html": [
       "<strong>difference in location:</strong> -226.997166008208"
      ],
      "text/latex": [
       "\\textbf{difference in location:} -226.997166008208"
      ],
      "text/markdown": [
       "**difference in location:** -226.997166008208"
      ],
      "text/plain": [
       "difference in location \n",
       "             -226.9972 "
      ]
     },
     "metadata": {},
     "output_type": "display_data"
    },
    {
     "data": {
      "text/html": [
       "<strong>difference in location:</strong> -27.9717760049179"
      ],
      "text/latex": [
       "\\textbf{difference in location:} -27.9717760049179"
      ],
      "text/markdown": [
       "**difference in location:** -27.9717760049179"
      ],
      "text/plain": [
       "difference in location \n",
       "             -27.97178 "
      ]
     },
     "metadata": {},
     "output_type": "display_data"
    },
    {
     "data": {
      "text/html": [
       "<strong>difference in location:</strong> -104.046506950634"
      ],
      "text/latex": [
       "\\textbf{difference in location:} -104.046506950634"
      ],
      "text/markdown": [
       "**difference in location:** -104.046506950634"
      ],
      "text/plain": [
       "difference in location \n",
       "             -104.0465 "
      ]
     },
     "metadata": {},
     "output_type": "display_data"
    },
    {
     "data": {
      "text/html": [
       "<strong>difference in location:</strong> -323.997532410119"
      ],
      "text/latex": [
       "\\textbf{difference in location:} -323.997532410119"
      ],
      "text/markdown": [
       "**difference in location:** -323.997532410119"
      ],
      "text/plain": [
       "difference in location \n",
       "             -323.9975 "
      ]
     },
     "metadata": {},
     "output_type": "display_data"
    },
    {
     "data": {
      "text/html": [
       "<strong>difference in location:</strong> -196.269645744521"
      ],
      "text/latex": [
       "\\textbf{difference in location:} -196.269645744521"
      ],
      "text/markdown": [
       "**difference in location:** -196.269645744521"
      ],
      "text/plain": [
       "difference in location \n",
       "             -196.2696 "
      ]
     },
     "metadata": {},
     "output_type": "display_data"
    },
    {
     "data": {
      "text/html": [
       "<strong>difference in location:</strong> 0.11780429789453"
      ],
      "text/latex": [
       "\\textbf{difference in location:} 0.11780429789453"
      ],
      "text/markdown": [
       "**difference in location:** 0.11780429789453"
      ],
      "text/plain": [
       "difference in location \n",
       "             0.1178043 "
      ]
     },
     "metadata": {},
     "output_type": "display_data"
    },
    {
     "data": {
      "text/html": [
       "<strong>difference in location:</strong> -93.8243466185963"
      ],
      "text/latex": [
       "\\textbf{difference in location:} -93.8243466185963"
      ],
      "text/markdown": [
       "**difference in location:** -93.8243466185963"
      ],
      "text/plain": [
       "difference in location \n",
       "             -93.82435 "
      ]
     },
     "metadata": {},
     "output_type": "display_data"
    },
    {
     "data": {
      "text/html": [
       "<strong>difference in location:</strong> -68.6769720610071"
      ],
      "text/latex": [
       "\\textbf{difference in location:} -68.6769720610071"
      ],
      "text/markdown": [
       "**difference in location:** -68.6769720610071"
      ],
      "text/plain": [
       "difference in location \n",
       "             -68.67697 "
      ]
     },
     "metadata": {},
     "output_type": "display_data"
    },
    {
     "data": {
      "text/html": [
       "<strong>difference in location:</strong> 89.8882646169815"
      ],
      "text/latex": [
       "\\textbf{difference in location:} 89.8882646169815"
      ],
      "text/markdown": [
       "**difference in location:** 89.8882646169815"
      ],
      "text/plain": [
       "difference in location \n",
       "              89.88826 "
      ]
     },
     "metadata": {},
     "output_type": "display_data"
    },
    {
     "data": {
      "text/html": [
       "<strong>difference in location:</strong> 45.4573585384222"
      ],
      "text/latex": [
       "\\textbf{difference in location:} 45.4573585384222"
      ],
      "text/markdown": [
       "**difference in location:** 45.4573585384222"
      ],
      "text/plain": [
       "difference in location \n",
       "              45.45736 "
      ]
     },
     "metadata": {},
     "output_type": "display_data"
    },
    {
     "data": {
      "text/html": [
       "<strong>difference in location:</strong> 276.899733261655"
      ],
      "text/latex": [
       "\\textbf{difference in location:} 276.899733261655"
      ],
      "text/markdown": [
       "**difference in location:** 276.899733261655"
      ],
      "text/plain": [
       "difference in location \n",
       "              276.8997 "
      ]
     },
     "metadata": {},
     "output_type": "display_data"
    },
    {
     "data": {
      "text/html": [
       "<strong>difference in location:</strong> 187.913337808548"
      ],
      "text/latex": [
       "\\textbf{difference in location:} 187.913337808548"
      ],
      "text/markdown": [
       "**difference in location:** 187.913337808548"
      ],
      "text/plain": [
       "difference in location \n",
       "              187.9133 "
      ]
     },
     "metadata": {},
     "output_type": "display_data"
    }
   ],
   "source": [
    "# Hodges-Lehmann\n",
    "hodges.Lehmann.estimate = function(data){\n",
    "  wilcox.test(data,  conf.int = TRUE)$estimate\n",
    "}\n",
    "tapply(IMS$Sales,IMS$Age,hodges.Lehmann.estimate)\n",
    "# pairwise difference in location\n",
    "wilcox.test(group.1$Sales, group.2$Sales, conf.int = TRUE)$estimate\n",
    "wilcox.test(group.1$Sales, group.3$Sales, conf.int = TRUE)$estimate\n",
    "wilcox.test(group.1$Sales, group.4$Sales, conf.int = TRUE)$estimate\n",
    "wilcox.test(group.1$Sales, group.5$Sales, conf.int = TRUE)$estimate\n",
    "wilcox.test(group.1$Sales, group.6$Sales, conf.int = TRUE)$estimate\n",
    "wilcox.test(group.2$Sales, group.3$Sales, conf.int = TRUE)$estimate\n",
    "wilcox.test(group.2$Sales, group.4$Sales, conf.int = TRUE)$estimate\n",
    "wilcox.test(group.2$Sales, group.5$Sales, conf.int = TRUE)$estimate\n",
    "wilcox.test(group.2$Sales, group.6$Sales, conf.int = TRUE)$estimate\n",
    "wilcox.test(group.3$Sales, group.4$Sales, conf.int = TRUE)$estimate\n",
    "wilcox.test(group.3$Sales, group.5$Sales, conf.int = TRUE)$estimate\n",
    "wilcox.test(group.3$Sales, group.6$Sales, conf.int = TRUE)$estimate\n",
    "wilcox.test(group.4$Sales, group.5$Sales, conf.int = TRUE)$estimate\n",
    "wilcox.test(group.4$Sales, group.6$Sales, conf.int = TRUE)$estimate\n",
    "wilcox.test(group.5$Sales, group.6$Sales, conf.int = TRUE)$estimate\n"
   ]
  },
  {
   "cell_type": "markdown",
   "metadata": {},
   "source": [
    "**SAS OUTPUT**\n",
    "\n",
    "<img src=\"https://dl.dropboxusercontent.com/u/17169894/HodgesLehmann.png\" alt=\"Graphic 8: SAS output for Hodges-Lehmann test\">\n",
    "\n",
    "Graphic 8: SAS output for Hodges-Lehmann test\n",
    "\n",
    "The median for Sales on Age Groups are: \n",
    "\n",
    "- 18-25: € 414.98\n",
    "- 26-35: € 433.58\n",
    "- 36-45: € 735.83\n",
    "- 46-55: € 871.12\n",
    "- 56-65: € 749.96\n",
    "- 66-90: € 479.36\n",
    "\n",
    "\n",
    "A non-parametric 0.95 confidence interval for $HL_Δ$ provides an estimate of the probability that a randomly chosen customer from $AgeGroup_i$ has a higher value of sales than a randomly chosen customer from $AgeGroup_j$. Based on Hodges-Lehmann Estimation, at a confidence level of 95%, we can observe a significant separation between the following groups: \n",
    "\n",
    "- 1 vs 4 and 5, <br>the pseudo median of group 1 is almost half of the medians of groups 4 and 5, a difference in location of € 338.28 for group 4 and €227.00 for group 5.\n",
    "\n",
    "- 2 vs 4 and 5, difference in location of € 324.00 for group 4 and € 196.26 for group 5;\n",
    "\n",
    "- 4 vs 6, difference in location of € 277.90;\n",
    "\n",
    "- 5 vs 6, difference in location of € 187.91.\n"
   ]
  },
  {
   "cell_type": "markdown",
   "metadata": {},
   "source": [
    "### 3.7.2. Dwass-Steel-Critchlow-Flignertest\n",
    "\n",
    "To compare the medians of all pairs of groups we use the Steel-Dwass-Critchlow-Fligner pairwise ranking method. This method controls the error rate simultaneously for all the 15 comparisons."
   ]
  },
  {
   "cell_type": "code",
   "execution_count": 19,
   "metadata": {
    "collapsed": false
   },
   "outputs": [
    {
     "data": {
      "text/plain": [
       "\n",
       "Monte Carlo Approximation (with  500  Iterations) used: \n",
       " \n",
       "Group sizes: 50 50 50 50 50 50 \n",
       "For the given experimentwise alpha=0.05, the upper cutoff value is Dwass, Steel, Critchlow-Fligner W=4.06547209636675, with true experimentwise alpha level=0.05"
      ]
     },
     "metadata": {},
     "output_type": "display_data"
    },
    {
     "data": {
      "text/plain": [
       "Ties are present, so p-values are based on conditional null distribution. \n",
       "Group sizes: 50 50 50 50 50 50 \n",
       "Using the Monte Carlo (with 500 Iterations) method: \n",
       " \n",
       "For treatments 1 - 2, the Dwass, Steel, Critchlow-Fligner W Statistic is 0.546. \n",
       "The smallest experimentwise error rate leading to rejection is 1 .\n",
       "  \n",
       "For treatments 1 - 3, the Dwass, Steel, Critchlow-Fligner W Statistic is 2.4276. \n",
       "The smallest experimentwise error rate leading to rejection is 0.51 .\n",
       "  \n",
       "For treatments 1 - 4, the Dwass, Steel, Critchlow-Fligner W Statistic is 3.7827. \n",
       "The smallest experimentwise error rate leading to rejection is 0.07 .\n",
       "  \n",
       "For treatments 1 - 5, the Dwass, Steel, Critchlow-Fligner W Statistic is 3.383. \n",
       "The smallest experimentwise error rate leading to rejection is 0.146 .\n",
       "  \n",
       "For treatments 1 - 6, the Dwass, Steel, Critchlow-Fligner W Statistic is 0.7409. \n",
       "The smallest experimentwise error rate leading to rejection is 1 .\n",
       "  \n",
       "For treatments 2 - 3, the Dwass, Steel, Critchlow-Fligner W Statistic is 1.6769. \n",
       "The smallest experimentwise error rate leading to rejection is 0.842 .\n",
       "  \n",
       "For treatments 2 - 4, the Dwass, Steel, Critchlow-Fligner W Statistic is 3.3343. \n",
       "The smallest experimentwise error rate leading to rejection is 0.15 .\n",
       "  \n",
       "For treatments 2 - 5, the Dwass, Steel, Critchlow-Fligner W Statistic is 3.0418. \n",
       "The smallest experimentwise error rate leading to rejection is 0.248 .\n",
       "  \n",
       "For treatments 2 - 6, the Dwass, Steel, Critchlow-Fligner W Statistic is -0.0146. \n",
       "The smallest experimentwise error rate leading to rejection is 1 .\n",
       "  \n",
       "For treatments 3 - 4, the Dwass, Steel, Critchlow-Fligner W Statistic is 1.1504. \n",
       "The smallest experimentwise error rate leading to rejection is 0.976 .\n",
       "  \n",
       "For treatments 3 - 5, the Dwass, Steel, Critchlow-Fligner W Statistic is 0.8384. \n",
       "The smallest experimentwise error rate leading to rejection is 0.998 .\n",
       "  \n",
       "For treatments 3 - 6, the Dwass, Steel, Critchlow-Fligner W Statistic is -1.6379. \n",
       "The smallest experimentwise error rate leading to rejection is 0.85 .\n",
       "  \n",
       "For treatments 4 - 5, the Dwass, Steel, Critchlow-Fligner W Statistic is -0.6922. \n",
       "The smallest experimentwise error rate leading to rejection is 1 .\n",
       "  \n",
       "For treatments 4 - 6, the Dwass, Steel, Critchlow-Fligner W Statistic is -3.2124. \n",
       "The smallest experimentwise error rate leading to rejection is 0.182 .\n",
       "  \n",
       "For treatments 5 - 6, the Dwass, Steel, Critchlow-Fligner W Statistic is -2.8078. \n",
       "The smallest experimentwise error rate leading to rejection is 0.338 .\n",
       "  "
      ]
     },
     "metadata": {},
     "output_type": "display_data"
    }
   ],
   "source": [
    "# critical value for the Dwass, Steel, Critchlow-Fligner W distribution and parwise comparisons\n",
    "cSDCFlig(alpha=0.05,n=rep(50,6),method=\"Monte Carlo\",n.mc=500) # iter > 500 take some time to exec.\n",
    "pSDCFlig(tapply(IMS$Sales,IMS$Age,list),method=\"Monte Carlo\",n.mc=500) # take some time to exec."
   ]
  },
  {
   "cell_type": "markdown",
   "metadata": {
    "collapsed": false
   },
   "source": [
    "** SAS OUTPUT **"
   ]
  },
  {
   "cell_type": "markdown",
   "metadata": {
    "collapsed": false
   },
   "source": [
    "<img src=\"https://dl.dropboxusercontent.com/u/17169894/Dwass.png\" alt=\"Graphic 9: SAS output for Dwass-Steel-Critchlow-Flignertest test\">\n",
    "\n",
    "Graphic 9: SAS output for Dwass-Steel-Critchlow-Flignertest test\n",
    "\n",
    "The critical value for the $Dwass, Steel, Critchlow-Fligner$ test, at a significance level of $0.05$, is $W = 3.9387$.\n",
    "\n",
    ">  Critical Value (upper tail): $W = 3.9387$\n",
    "\n",
    ">  Critical Region: Reject $H_0$ if $W > W_{crit} = 3.9387$\n",
    "\n",
    "From all tests under Dwass-Steel-Critchlow-Flignertest method, $max {|W_{obs}|} = 3.78 < W_{crit} = 3.9387$, DSCF value from SAS output, so we conclude that there are no significant differences between groups."
   ]
  },
  {
   "cell_type": "markdown",
   "metadata": {},
   "source": [
    "### 3.7.3. Nemenyi-Damico-Wolfe-Dunn test\n",
    "\n",
    "Pairwise multiple comparisons between group levels and (mean) rank sums of independent samples. \n",
    "\n",
    "<center>$H_0:$ for each pairwise comparison, the probability of observing a randomly selected value from the first group<br> that is larger than a randomly selected value from the second group equals one half.</center>\n",
    "\n",
    "This null hypothesis corresponds to that of the Wilcoxon-Mann-Whitney rank-sum test (see 3.7.5).\n"
   ]
  },
  {
   "cell_type": "code",
   "execution_count": 20,
   "metadata": {
    "collapsed": false
   },
   "outputs": [
    {
     "name": "stderr",
     "output_type": "stream",
     "text": [
      "Warning message in posthoc.kruskal.nemenyi.test.default(c(1500.45, 35, 431.82, 496.98, :\n",
      "\"Ties are present. Chi-sq was corrected for ties.\""
     ]
    },
    {
     "name": "stdout",
     "output_type": "stream",
     "text": [
      "          18-25       26-35     36-45     46-55    56-65\n",
      "26-35 0.1604737          NA        NA        NA       NA\n",
      "36-45 2.9940273 1.768192573        NA        NA       NA\n",
      "46-55 7.4297295 5.406374932 0.9908754        NA       NA\n",
      "56-65 5.7383291 3.979583042 0.4424314 0.1090796       NA\n",
      "66-90 0.2179739 0.004393696 1.5963035 5.1025222 3.719514\n"
     ]
    }
   ],
   "source": [
    "# Pairwise Test for Multiple Comparisons of Mean Rank Sums\n",
    "output.nemenyi = posthoc.kruskal.nemenyi.test(Sales ~ Age, data = IMS, dist=\"Chisquare\")\n",
    "print(output.nemenyi$statistic)"
   ]
  },
  {
   "cell_type": "markdown",
   "metadata": {},
   "source": [
    "The critical value for the $Nemenyi$ test, at a significance level of $0.05$, is such that $P(\\chi_{(0.05;5)}^2 < 11.070 ) = 0.95$. \n",
    "\n",
    ">  Critical Value (upper tail): $\\chi_{(0.05;5)}^2 = 11.070$\n",
    "\n",
    ">  Critical Region: Reject $H_0$ if $\\chi_{obs}^2 > \\chi_{crit}^2 = 11.070$\n",
    "\n",
    "We should not reject the null hypothesis at the 0.05 significance level since all values of $\\chi_{obs}^2$ are smaller  than the critical value $\\chi_{crit}^2 = 11.070$. So, we assume that there are no statistical evidence that the (mean) rank sums comparisons between our samples are diferent.\n",
    "\n",
    "> <font color=\"green\">Do not Reject $H_0$</font> for $Sales_i$ , i.e.,  we do not reject the hypothesis that the samples have the same mean rank sums against the alternative that exists differences between mean rank sums. "
   ]
  },
  {
   "cell_type": "markdown",
   "metadata": {},
   "source": [
    "### 3.7.4. Conover-Inman test\n",
    "\n",
    "Since we have rejected the $Kruskal-Wallis$, we have applied the $Conover-Inman$ test to verify if the CDF\n",
    "of one age group does not cross the CDF of other, among multiple pairwise comparisons, i.e., we tested the stochastic dominance among six age groups.\n",
    "However, the pair-wise rank sum tests that we are comparing aren't the same that Kruskal-Wallis have tested. We must have in mind that, in this case, if we want to compare the results, we should use Dunn's test, since it preserves a pooled variance for the tests implied by the Kruskal-Wallis null hypothesis."
   ]
  },
  {
   "cell_type": "code",
   "execution_count": 21,
   "metadata": {
    "collapsed": false
   },
   "outputs": [],
   "source": [
    "#conover.test(IMS$Sales,IMS$Age, label=TRUE,  table=TRUE, alpha=0.05)\n",
    "#conover.test(IMS$Sales,IMS$Age,  method=\"bonferroni\", label=TRUE, table=TRUE, alpha=0.05)"
   ]
  },
  {
   "cell_type": "markdown",
   "metadata": {},
   "source": [
    "<img src=\"https://dl.dropboxusercontent.com/u/17169894/canover.png\" alt=\"Graphic 10: SAS output for Conover-Inman test\">\n",
    "\n",
    "Graphic 10: SAS output for Conover-Inman test\n",
    "\n",
    "From SAS output, Conover tests show a significant separation between the groups:\n",
    "\n",
    "- 1 vs 3, 4 and 6;\n",
    "\n",
    "- 2 vs 3, 4 and 5;\n",
    "\n",
    "- 3 vs 5 and 6;\n",
    "\n",
    "- 4 vs 6;\n",
    "\n",
    "- 5 vs 6."
   ]
  },
  {
   "cell_type": "markdown",
   "metadata": {},
   "source": [
    "### 3.7.5. Wilcoxon-Mann-Whitney test with the Bonferroni correction\n",
    "\n",
    "To test if they come from distinct populations and the samples do not affect each other we used the Wilcoxon-Mann-Whitney test. To  adjust p-values  for  multiple  comparisons and to control the family-wise error rate we used the Bonferroni correction.\n",
    "\n",
    "<center>$H_0:$ for each pairwise comparison, the probability of observing a randomly selected value from the first group<br> that is larger than a randomly selected value from the second group equals one half.</center>"
   ]
  },
  {
   "cell_type": "code",
   "execution_count": 22,
   "metadata": {
    "collapsed": false
   },
   "outputs": [
    {
     "data": {
      "text/plain": [
       "\n",
       "\tPairwise comparisons using Wilcoxon rank sum test \n",
       "\n",
       "data:  IMS$Sales and IMS$Age \n",
       "\n",
       "      18-25 26-35 36-45 46-55 56-65\n",
       "26-35 1.00  -     -     -     -    \n",
       "36-45 1.00  1.00  -     -     -    \n",
       "46-55 0.11  0.28  1.00  -     -    \n",
       "56-65 0.25  0.48  1.00  1.00  -    \n",
       "66-90 1.00  1.00  1.00  0.35  0.71 \n",
       "\n",
       "P value adjustment method: bonferroni "
      ]
     },
     "metadata": {},
     "output_type": "display_data"
    }
   ],
   "source": [
    "# Wilcoxon-Mann-Whitney test with the Bonferroni correction\n",
    "pairwise.wilcox.test(IMS$Sales,IMS$Age, p.adj = \"bonf\")"
   ]
  },
  {
   "cell_type": "markdown",
   "metadata": {},
   "source": [
    "The Sales of the six Age Groups were compared using the Wilcoxon–Mann–Whitney two-sample rank-sum test. The difference between Age Groups was quantified using the Hodges–Lehmann ($HL$) estimator, which is consistent with the Wilcoxon test for the median of all possible differences in value of purchases between a customer in $AgeGroup_i$ and the purchases of a customer in $AgeGroup_j$.\n",
    "\n",
    "A non-parametric 0.95 confidence interval for $HL_Δ$ provides an estimate of the probability that a randomly chosen customer from $AgeGroup_i$ has a higher value of sales than a randomly chosen customer from $AgeGroup_j$. The median for Sales on Age Groups are given in $3.7.1$.\n",
    "\n",
    "However, in this case, we have inconclusive results due to the Bonferoni correction, which adjusts p-values for the number of tests we have done. We may adjust the false discovery rate in order to have a less conservative correction but this isn't in the scope of our study."
   ]
  },
  {
   "cell_type": "markdown",
   "metadata": {},
   "source": [
    "# 4. CONCLUSION"
   ]
  },
  {
   "cell_type": "markdown",
   "metadata": {},
   "source": [
    "According to the marketing problem, either by rejecting the ANOVA null hypothesis that all the treatment groups have identical mean values, or by rejecting the Kruskal-Wallis null hypothesis that all the 6 samples come from the same population, or from identical populations, we can conclude that customers from different age groups have a distinct global behavior in relation to the amount spent during the given period of time. In fact, either by testing the original or transformed data, we are led to the same overall conclusion. However, when we perform the multiple-comparisons tests, the same conclusions cannot be reached. Based on parametric multiple-comparison tests, we have no statistical evidence to assume that exists one mean that is significantly different from another. \n",
    "\n",
    "On the other hand, based on non-parametric counterparts, there are some tests that show a significant separation between some pairs of age groups, in particular, Conover-Inman test and Hodges-Lehmann Estimate. It is important to note that nonparametric tests are subject to the same errors as parametric tests, such as Type I and Type II errors. More, nonparametric tests can be subject to low power mainly due to small sample size. Moreover, although pairwise comparisons are a useful way to fully describe the pattern of mean differences, we might at the same time be increasing the chances of making a Type I error. That´s why the Bonferroni correction is used, to reduce the chances of obtaining false-positive results (type I errors). We could consider to lower the significance level α, but as we lower α we increase β, the chance of a Type II error, that represents the probability of a false negative, failing to find a difference in age group means or medians when there actually is a difference. Another point we wish to remind is that nonparametric multiple-comparisons tests are not testing a hypothesis equivalent to ANOVA Age Group means comparison. These comparisons methods are only useful to check if the probability of a random customer of one age group will score higher than a customer of another age group. The hypotheses they are testing are different and they are not comparable.\n",
    "\n",
    "Taking into account the presented results, it´s debatable whether we should choose the parametric or nonparametric approach to solve this specific marketing problem. According to original data, the median better represents the center of our distribution, so we might consider the nonparametric tests for marketing purposes. However, our recommendation would be to increase the sample sizes so we can be able to provide more consistent conclusions."
   ]
  },
  {
   "cell_type": "markdown",
   "metadata": {},
   "source": [
    "# REFERENCES\n",
    "\n",
    "[Bartlett, M. S. (1937). \"Properties of sufficiency and statistical tests\".](https://www.jstor.org/stable/96803)<br>\n",
    "Proceedings of the Royal Statistical Society, Series A 160, 268–282 <br>\n",
    "\n",
    "[Benjamini, Y. and Hochberg, Y. (1995).  Controlling the False Discovery Rate: a Practical and Powerful Approach to Multiple Testing.](https://pdfs.semanticscholar.org/af6e/9cd1652b40e219b45402313ec6f4b5b3d96b.pdf)<br>\n",
    "Journal of the Royal Statistical Society. Series B (Methodological) 57, 289–300.<br>\n",
    "\n",
    "[Box, G. E. P. and Cox, D. R. (1964), \"An analysis of transformations\"](https://pdfs.semanticscholar.org/6e82/0cf11712b9041bb625634612a535476f0960.pdf) <br>\n",
    "Journal of the Royal Statistical Society, Series B, 26, 211-252.<br>\n",
    "\n",
    "[Brown, Morton B.; Forsythe, Alan B. (1974). \"Robust tests for the equality of variances\".](https://www.jstor.org/stable/2285659)<br> \n",
    "Journal of the American Statistical Association. 69: 364–367.<br>\n",
    "\n",
    "[Conover, W. J. and Iman, R. L. (1979). On multiple-comparisons procedures.](http://permalink.lanl.gov/object/tr?what=info:lanl-repo/lareport/LA-07677-MS)<br>\n",
    "Technical Report LA-7677-MS, Los Alamos Scientific Laboratory.<br>\n",
    "\n",
    "[Crichtlow, D. E. and Fligner, M. A. (1991). On distribution-free multiple comparisons in the one-way analysis of variance.](http://www.tandfonline.com/doi/abs/10.1080/03610929108830487)<br>\n",
    "Communications in Statistics—Theory and Methods, 20(1):127.\n",
    "\n",
    "[Dunn, O. J. 1964. “Multiple comparisons using rank sums”.]()<br>\n",
    "Technometrics 6: 241–252.<br>\n",
    "\n",
    "[Greenland, S., Senn, S.J., Rothman, K.J., Carlin, J.B., Poole, C., Goodman, S.N. and Altman, D.G. (2016): \"Statistical Tests, P-values, Confidence Intervals, and Power: A Guide to Misinterpretations.\"](https://www.ncbi.nlm.nih.gov/pmc/articles/PMC4877414/)<br>\n",
    "European Journal of Epidemiology, Volume 31, Issue 4, pp 337–350<br>\n",
    "\n",
    "[Fisher, R. A. (1922a). On the interpretation of Chi^2 from contingency tables, and the calculation of p.](http://puhep1.princeton.edu/~mcdonald/examples/statistics/fisher_jrss_85_87_22.pdf)<br> \n",
    "Journal of the Royal Statistical Society, 84, pp. 87–94.<br>\n",
    "\n",
    "[Hodges, J.L., and Lehmann, E.L. (1963), Estimates of location based on rank tests.](http://projecteuclid.org/download/pdf_1/euclid.aoms/1177704172)<br>\n",
    "The Annals of Mathematical Statistics, 34, 598–611. <br>\n",
    "\n",
    "[Kruskal, W. H., & Wallis, W. A. (1952), \"Use of ranks in one-criterion variance analysis.\"](http://webspace.ship.edu/pgmarr/Geo441/Readings/Kruskal%20and%20Wallis%201952%20-%20Use%20of%20Ranks%20in%20One-Criterion%20Variance%20Analysis.pdf)<br>\n",
    "Journal of the American Statistical Association, Vol 47, pp. 583–621.<br>\n",
    "\n",
    "[Levene, H. (1960). In Contributions to Probability and Statistics: Essays in Honor of Harold Hotelling, I. Olkin et al. eds.](http://www.jstor.org/stable/2004242)<br>\n",
    "Stanford University Press, pp. 278-292. <br>\n",
    "\n",
    "[Lilliefors, H. (June 1967), \"On the Kolmogorov–Smirnov test for normality with mean and variance unknown\"](http://www.bios.unc.edu/~mhudgens/bios/662/2008fall/lilliefors1967.pdf) <br>\n",
    "Journal of the American Statistical Association, Vol. 62, pp. 399–402.<br>\n",
    "\n",
    "[Pearson, K. (1900), \"On the criterion that a given system of deviations from the probable in the case of a correlated system of variables is such that it can be reasonably supposed to have arisen from random sampling.](http://www.economics.soton.ac.uk/staff/aldrich/1900.pdf)<br>\n",
    "Philosophical Magazine, 50, pp. 157–175.<br>\n",
    "\n",
    "[Mann, Henry B.; Whitney, Donald R. (1947). \"On a Test of Whether one of Two Random Variables is Stochastically Larger than the Other\".](http://projecteuclid.org/euclid.aoms/1177730491)<br>\n",
    "Annals of Mathematical Statistics. 18 (1): 50–60.<br>\n",
    "\n",
    "[Shapiro, S. S. and Wilk, M. B. (1965). \"An analysis of variance test for normality (complete samples)\".](http://sci2s.ugr.es/keel/pdf/algorithm/articulo/shapiro1965.pdf) \n",
    "<br>Biometrika, 52, 3 and 4, pages 591-611.<br>\n",
    "\n",
    "[Student, A. (1908). \"The probable error of a mean\"](http://bayes.wustl.edu/Manual/Student.pdf)<br>\n",
    "Biometrika, 6, pp. 1–2.<br>\n",
    "\n",
    "[Tukey, John (1949). \"Comparing Individual Means in the Analysis of Variance\"](http://webspace.ship.edu/pgmarr/Geo441/Readings/Tukey%201949%20-%20Comparing%20Individual%20Means%20in%20the%20Analysis%20of%20Variance.pdf) <br>\n",
    "Biometrics. 5 (2): 99–114. JSTOR 3001913 <br>\n",
    "\n",
    "[W. Tukey, (1957), “On the comparative anatomy of transformations”](http://projecteuclid.org/download/pdf_1/euclid.aoms/1177706875) <br>\n",
    "Annals of Mathematical Statistics, vol. 23, pp. 604.<br>\n",
    "\n",
    "[Welch, B. L. (1951). On the comparison of several mean values: An alternative approach.](http://www.soph.uab.edu/Statgenetics/People/MBeasley/Courses/Welch1951.pdf)<br>\n",
    "Biometrika, Vol. 38, pp. 330–336.<br>\n",
    "\n",
    "[Wilcoxon, Frank (1945). \"Individual comparisons by ranking methods\"](https://www.jstor.org/stable/3001968)<br>\n",
    "Biometrics Bulletin. 1 (6): 80–83. <br>"
   ]
  },
  {
   "cell_type": "code",
   "execution_count": 23,
   "metadata": {
    "collapsed": true
   },
   "outputs": [],
   "source": [
    "#sessionInfo()"
   ]
  }
 ],
 "metadata": {
  "anaconda-cloud": {},
  "kernelspec": {
   "display_name": "R",
   "language": "R",
   "name": "ir"
  },
  "language_info": {
   "codemirror_mode": "r",
   "file_extension": ".r",
   "mimetype": "text/x-r-source",
   "name": "R",
   "pygments_lexer": "r",
   "version": "3.3.1"
  }
 },
 "nbformat": 4,
 "nbformat_minor": 1
}
